{
 "cells": [
  {
   "cell_type": "code",
   "execution_count": 2,
   "id": "23abf030",
   "metadata": {},
   "outputs": [],
   "source": [
    "#### Data Analysis & Calculation. \n",
    "\n",
    "import pandas as pd \n",
    "import numpy as np \n",
    "\n",
    "#### Machine Learning.\n",
    "import statsmodels\n",
    "from statsmodels.stats.anova import anova_lm\n",
    "from statsmodels.stats.outliers_influence import variance_inflation_factor\n",
    "\n",
    "#### Data Visualization. \n",
    "import seaborn as sns\n",
    "from matplotlib import pyplot as plt\n",
    "%matplotlib inline\n"
   ]
  },
  {
   "cell_type": "code",
   "execution_count": null,
   "id": "023a6854",
   "metadata": {},
   "outputs": [],
   "source": []
  },
  {
   "cell_type": "code",
   "execution_count": 3,
   "id": "54f7bf74",
   "metadata": {},
   "outputs": [
    {
     "data": {
      "text/html": [
       "<div>\n",
       "<style scoped>\n",
       "    .dataframe tbody tr th:only-of-type {\n",
       "        vertical-align: middle;\n",
       "    }\n",
       "\n",
       "    .dataframe tbody tr th {\n",
       "        vertical-align: top;\n",
       "    }\n",
       "\n",
       "    .dataframe thead th {\n",
       "        text-align: right;\n",
       "    }\n",
       "</style>\n",
       "<table border=\"1\" class=\"dataframe\">\n",
       "  <thead>\n",
       "    <tr style=\"text-align: right;\">\n",
       "      <th></th>\n",
       "      <th>Overall_rank</th>\n",
       "      <th>Country_or_region</th>\n",
       "      <th>Score</th>\n",
       "      <th>GDP_per_capita</th>\n",
       "      <th>Social_support</th>\n",
       "      <th>Healthy_life_expectancy</th>\n",
       "      <th>Freedom_to_make_life_choices</th>\n",
       "      <th>Generosity</th>\n",
       "      <th>Perceptions_of_corruption</th>\n",
       "    </tr>\n",
       "  </thead>\n",
       "  <tbody>\n",
       "    <tr>\n",
       "      <th>0</th>\n",
       "      <td>1</td>\n",
       "      <td>Finland</td>\n",
       "      <td>7.769</td>\n",
       "      <td>1.340</td>\n",
       "      <td>1.587</td>\n",
       "      <td>0.986</td>\n",
       "      <td>0.596</td>\n",
       "      <td>0.153</td>\n",
       "      <td>0.393</td>\n",
       "    </tr>\n",
       "    <tr>\n",
       "      <th>1</th>\n",
       "      <td>2</td>\n",
       "      <td>Denmark</td>\n",
       "      <td>7.600</td>\n",
       "      <td>1.383</td>\n",
       "      <td>1.573</td>\n",
       "      <td>0.996</td>\n",
       "      <td>0.592</td>\n",
       "      <td>0.252</td>\n",
       "      <td>0.410</td>\n",
       "    </tr>\n",
       "    <tr>\n",
       "      <th>2</th>\n",
       "      <td>3</td>\n",
       "      <td>Norway</td>\n",
       "      <td>7.554</td>\n",
       "      <td>1.488</td>\n",
       "      <td>1.582</td>\n",
       "      <td>1.028</td>\n",
       "      <td>0.603</td>\n",
       "      <td>0.271</td>\n",
       "      <td>0.341</td>\n",
       "    </tr>\n",
       "    <tr>\n",
       "      <th>3</th>\n",
       "      <td>4</td>\n",
       "      <td>Iceland</td>\n",
       "      <td>7.494</td>\n",
       "      <td>1.380</td>\n",
       "      <td>1.624</td>\n",
       "      <td>1.026</td>\n",
       "      <td>0.591</td>\n",
       "      <td>0.354</td>\n",
       "      <td>0.118</td>\n",
       "    </tr>\n",
       "    <tr>\n",
       "      <th>4</th>\n",
       "      <td>5</td>\n",
       "      <td>Netherlands</td>\n",
       "      <td>7.488</td>\n",
       "      <td>1.396</td>\n",
       "      <td>1.522</td>\n",
       "      <td>0.999</td>\n",
       "      <td>0.557</td>\n",
       "      <td>0.322</td>\n",
       "      <td>0.298</td>\n",
       "    </tr>\n",
       "    <tr>\n",
       "      <th>...</th>\n",
       "      <td>...</td>\n",
       "      <td>...</td>\n",
       "      <td>...</td>\n",
       "      <td>...</td>\n",
       "      <td>...</td>\n",
       "      <td>...</td>\n",
       "      <td>...</td>\n",
       "      <td>...</td>\n",
       "      <td>...</td>\n",
       "    </tr>\n",
       "    <tr>\n",
       "      <th>151</th>\n",
       "      <td>152</td>\n",
       "      <td>Rwanda</td>\n",
       "      <td>3.334</td>\n",
       "      <td>0.359</td>\n",
       "      <td>0.711</td>\n",
       "      <td>0.614</td>\n",
       "      <td>0.555</td>\n",
       "      <td>0.217</td>\n",
       "      <td>0.411</td>\n",
       "    </tr>\n",
       "    <tr>\n",
       "      <th>152</th>\n",
       "      <td>153</td>\n",
       "      <td>Tanzania</td>\n",
       "      <td>3.231</td>\n",
       "      <td>0.476</td>\n",
       "      <td>0.885</td>\n",
       "      <td>0.499</td>\n",
       "      <td>0.417</td>\n",
       "      <td>0.276</td>\n",
       "      <td>0.147</td>\n",
       "    </tr>\n",
       "    <tr>\n",
       "      <th>153</th>\n",
       "      <td>154</td>\n",
       "      <td>Afghanistan</td>\n",
       "      <td>3.203</td>\n",
       "      <td>0.350</td>\n",
       "      <td>0.517</td>\n",
       "      <td>0.361</td>\n",
       "      <td>0.000</td>\n",
       "      <td>0.158</td>\n",
       "      <td>0.025</td>\n",
       "    </tr>\n",
       "    <tr>\n",
       "      <th>154</th>\n",
       "      <td>155</td>\n",
       "      <td>Central African Republic</td>\n",
       "      <td>3.083</td>\n",
       "      <td>0.026</td>\n",
       "      <td>0.000</td>\n",
       "      <td>0.105</td>\n",
       "      <td>0.225</td>\n",
       "      <td>0.235</td>\n",
       "      <td>0.035</td>\n",
       "    </tr>\n",
       "    <tr>\n",
       "      <th>155</th>\n",
       "      <td>156</td>\n",
       "      <td>South Sudan</td>\n",
       "      <td>2.853</td>\n",
       "      <td>0.306</td>\n",
       "      <td>0.575</td>\n",
       "      <td>0.295</td>\n",
       "      <td>0.010</td>\n",
       "      <td>0.202</td>\n",
       "      <td>0.091</td>\n",
       "    </tr>\n",
       "  </tbody>\n",
       "</table>\n",
       "<p>156 rows × 9 columns</p>\n",
       "</div>"
      ],
      "text/plain": [
       "     Overall_rank         Country_or_region  Score  GDP_per_capita  \\\n",
       "0               1                   Finland  7.769           1.340   \n",
       "1               2                   Denmark  7.600           1.383   \n",
       "2               3                    Norway  7.554           1.488   \n",
       "3               4                   Iceland  7.494           1.380   \n",
       "4               5               Netherlands  7.488           1.396   \n",
       "..            ...                       ...    ...             ...   \n",
       "151           152                    Rwanda  3.334           0.359   \n",
       "152           153                  Tanzania  3.231           0.476   \n",
       "153           154               Afghanistan  3.203           0.350   \n",
       "154           155  Central African Republic  3.083           0.026   \n",
       "155           156               South Sudan  2.853           0.306   \n",
       "\n",
       "     Social_support  Healthy_life_expectancy  Freedom_to_make_life_choices  \\\n",
       "0             1.587                    0.986                         0.596   \n",
       "1             1.573                    0.996                         0.592   \n",
       "2             1.582                    1.028                         0.603   \n",
       "3             1.624                    1.026                         0.591   \n",
       "4             1.522                    0.999                         0.557   \n",
       "..              ...                      ...                           ...   \n",
       "151           0.711                    0.614                         0.555   \n",
       "152           0.885                    0.499                         0.417   \n",
       "153           0.517                    0.361                         0.000   \n",
       "154           0.000                    0.105                         0.225   \n",
       "155           0.575                    0.295                         0.010   \n",
       "\n",
       "     Generosity  Perceptions_of_corruption  \n",
       "0         0.153                      0.393  \n",
       "1         0.252                      0.410  \n",
       "2         0.271                      0.341  \n",
       "3         0.354                      0.118  \n",
       "4         0.322                      0.298  \n",
       "..          ...                        ...  \n",
       "151       0.217                      0.411  \n",
       "152       0.276                      0.147  \n",
       "153       0.158                      0.025  \n",
       "154       0.235                      0.035  \n",
       "155       0.202                      0.091  \n",
       "\n",
       "[156 rows x 9 columns]"
      ]
     },
     "execution_count": 3,
     "metadata": {},
     "output_type": "execute_result"
    }
   ],
   "source": [
    "new = pd.read_csv(r\"C:\\Users\\LENOVO\\Desktop\\Data Science\\Imarticus\\Machine Learning\\Linear regression\\Project 1.1\\2019.csv\") #for an earlier version of Excel, you may need to use the file extension of 'xls'\n",
    "\n",
    "new"
   ]
  },
  {
   "cell_type": "code",
   "execution_count": 4,
   "id": "262c2e21",
   "metadata": {},
   "outputs": [
    {
     "name": "stdout",
     "output_type": "stream",
     "text": [
      "<class 'pandas.core.frame.DataFrame'>\n",
      "RangeIndex: 156 entries, 0 to 155\n",
      "Data columns (total 9 columns):\n",
      " #   Column                        Non-Null Count  Dtype  \n",
      "---  ------                        --------------  -----  \n",
      " 0   Overall_rank                  156 non-null    int64  \n",
      " 1   Country_or_region             156 non-null    object \n",
      " 2   Score                         156 non-null    float64\n",
      " 3   GDP_per_capita                156 non-null    float64\n",
      " 4   Social_support                156 non-null    float64\n",
      " 5   Healthy_life_expectancy       156 non-null    float64\n",
      " 6   Freedom_to_make_life_choices  156 non-null    float64\n",
      " 7   Generosity                    156 non-null    float64\n",
      " 8   Perceptions_of_corruption     156 non-null    float64\n",
      "dtypes: float64(7), int64(1), object(1)\n",
      "memory usage: 11.1+ KB\n"
     ]
    }
   ],
   "source": [
    "new.info()"
   ]
  },
  {
   "cell_type": "code",
   "execution_count": 5,
   "id": "890f82d9",
   "metadata": {},
   "outputs": [
    {
     "data": {
      "text/html": [
       "<div>\n",
       "<style scoped>\n",
       "    .dataframe tbody tr th:only-of-type {\n",
       "        vertical-align: middle;\n",
       "    }\n",
       "\n",
       "    .dataframe tbody tr th {\n",
       "        vertical-align: top;\n",
       "    }\n",
       "\n",
       "    .dataframe thead th {\n",
       "        text-align: right;\n",
       "    }\n",
       "</style>\n",
       "<table border=\"1\" class=\"dataframe\">\n",
       "  <thead>\n",
       "    <tr style=\"text-align: right;\">\n",
       "      <th></th>\n",
       "      <th>Overall_rank</th>\n",
       "      <th>Score</th>\n",
       "      <th>GDP_per_capita</th>\n",
       "      <th>Social_support</th>\n",
       "      <th>Healthy_life_expectancy</th>\n",
       "      <th>Freedom_to_make_life_choices</th>\n",
       "      <th>Generosity</th>\n",
       "      <th>Perceptions_of_corruption</th>\n",
       "    </tr>\n",
       "  </thead>\n",
       "  <tbody>\n",
       "    <tr>\n",
       "      <th>count</th>\n",
       "      <td>156.000000</td>\n",
       "      <td>156.000000</td>\n",
       "      <td>156.000000</td>\n",
       "      <td>156.000000</td>\n",
       "      <td>156.000000</td>\n",
       "      <td>156.000000</td>\n",
       "      <td>156.000000</td>\n",
       "      <td>156.000000</td>\n",
       "    </tr>\n",
       "    <tr>\n",
       "      <th>mean</th>\n",
       "      <td>78.500000</td>\n",
       "      <td>5.407096</td>\n",
       "      <td>0.905147</td>\n",
       "      <td>1.208814</td>\n",
       "      <td>0.725244</td>\n",
       "      <td>0.392571</td>\n",
       "      <td>0.184846</td>\n",
       "      <td>0.110603</td>\n",
       "    </tr>\n",
       "    <tr>\n",
       "      <th>std</th>\n",
       "      <td>45.177428</td>\n",
       "      <td>1.113120</td>\n",
       "      <td>0.398389</td>\n",
       "      <td>0.299191</td>\n",
       "      <td>0.242124</td>\n",
       "      <td>0.143289</td>\n",
       "      <td>0.095254</td>\n",
       "      <td>0.094538</td>\n",
       "    </tr>\n",
       "    <tr>\n",
       "      <th>min</th>\n",
       "      <td>1.000000</td>\n",
       "      <td>2.853000</td>\n",
       "      <td>0.000000</td>\n",
       "      <td>0.000000</td>\n",
       "      <td>0.000000</td>\n",
       "      <td>0.000000</td>\n",
       "      <td>0.000000</td>\n",
       "      <td>0.000000</td>\n",
       "    </tr>\n",
       "    <tr>\n",
       "      <th>25%</th>\n",
       "      <td>39.750000</td>\n",
       "      <td>4.544500</td>\n",
       "      <td>0.602750</td>\n",
       "      <td>1.055750</td>\n",
       "      <td>0.547750</td>\n",
       "      <td>0.308000</td>\n",
       "      <td>0.108750</td>\n",
       "      <td>0.047000</td>\n",
       "    </tr>\n",
       "    <tr>\n",
       "      <th>50%</th>\n",
       "      <td>78.500000</td>\n",
       "      <td>5.379500</td>\n",
       "      <td>0.960000</td>\n",
       "      <td>1.271500</td>\n",
       "      <td>0.789000</td>\n",
       "      <td>0.417000</td>\n",
       "      <td>0.177500</td>\n",
       "      <td>0.085500</td>\n",
       "    </tr>\n",
       "    <tr>\n",
       "      <th>75%</th>\n",
       "      <td>117.250000</td>\n",
       "      <td>6.184500</td>\n",
       "      <td>1.232500</td>\n",
       "      <td>1.452500</td>\n",
       "      <td>0.881750</td>\n",
       "      <td>0.507250</td>\n",
       "      <td>0.248250</td>\n",
       "      <td>0.141250</td>\n",
       "    </tr>\n",
       "    <tr>\n",
       "      <th>max</th>\n",
       "      <td>156.000000</td>\n",
       "      <td>7.769000</td>\n",
       "      <td>1.684000</td>\n",
       "      <td>1.624000</td>\n",
       "      <td>1.141000</td>\n",
       "      <td>0.631000</td>\n",
       "      <td>0.566000</td>\n",
       "      <td>0.453000</td>\n",
       "    </tr>\n",
       "  </tbody>\n",
       "</table>\n",
       "</div>"
      ],
      "text/plain": [
       "       Overall_rank       Score  GDP_per_capita  Social_support  \\\n",
       "count    156.000000  156.000000      156.000000      156.000000   \n",
       "mean      78.500000    5.407096        0.905147        1.208814   \n",
       "std       45.177428    1.113120        0.398389        0.299191   \n",
       "min        1.000000    2.853000        0.000000        0.000000   \n",
       "25%       39.750000    4.544500        0.602750        1.055750   \n",
       "50%       78.500000    5.379500        0.960000        1.271500   \n",
       "75%      117.250000    6.184500        1.232500        1.452500   \n",
       "max      156.000000    7.769000        1.684000        1.624000   \n",
       "\n",
       "       Healthy_life_expectancy  Freedom_to_make_life_choices  Generosity  \\\n",
       "count               156.000000                    156.000000  156.000000   \n",
       "mean                  0.725244                      0.392571    0.184846   \n",
       "std                   0.242124                      0.143289    0.095254   \n",
       "min                   0.000000                      0.000000    0.000000   \n",
       "25%                   0.547750                      0.308000    0.108750   \n",
       "50%                   0.789000                      0.417000    0.177500   \n",
       "75%                   0.881750                      0.507250    0.248250   \n",
       "max                   1.141000                      0.631000    0.566000   \n",
       "\n",
       "       Perceptions_of_corruption  \n",
       "count                 156.000000  \n",
       "mean                    0.110603  \n",
       "std                     0.094538  \n",
       "min                     0.000000  \n",
       "25%                     0.047000  \n",
       "50%                     0.085500  \n",
       "75%                     0.141250  \n",
       "max                     0.453000  "
      ]
     },
     "execution_count": 5,
     "metadata": {},
     "output_type": "execute_result"
    }
   ],
   "source": [
    "# Let's look at some statistical information about our dataframe.\n",
    "new.describe()"
   ]
  },
  {
   "cell_type": "code",
   "execution_count": 8,
   "id": "d8d5ce74",
   "metadata": {},
   "outputs": [
    {
     "data": {
      "text/plain": [
       "Overall_rank                       AxesSubplot(0.125,0.653529;0.227941x0.226471)\n",
       "Score                           AxesSubplot(0.398529,0.653529;0.227941x0.226471)\n",
       "GDP_per_capita                  AxesSubplot(0.672059,0.653529;0.227941x0.226471)\n",
       "Social_support                     AxesSubplot(0.125,0.381765;0.227941x0.226471)\n",
       "Healthy_life_expectancy         AxesSubplot(0.398529,0.381765;0.227941x0.226471)\n",
       "Freedom_to_make_life_choices    AxesSubplot(0.672059,0.381765;0.227941x0.226471)\n",
       "Generosity                             AxesSubplot(0.125,0.11;0.227941x0.226471)\n",
       "Perceptions_of_corruption           AxesSubplot(0.398529,0.11;0.227941x0.226471)\n",
       "dtype: object"
      ]
     },
     "execution_count": 8,
     "metadata": {},
     "output_type": "execute_result"
    },
    {
     "data": {
      "image/png": "[encoded data removed]",
      "text/plain": [
       "<Figure size 1000x1000 with 9 Axes>"
      ]
     },
     "metadata": {},
     "output_type": "display_data"
    }
   ],
   "source": [
    "# Checking for Outlier\n",
    "new.plot(kind=\"box\", subplots=True, layout=(3,3), figsize=(10,10))"
   ]
  },
  {
   "cell_type": "code",
   "execution_count": 9,
   "id": "19a191de",
   "metadata": {},
   "outputs": [
    {
     "data": {
      "text/plain": [
       "<AxesSubplot:>"
      ]
     },
     "execution_count": 9,
     "metadata": {},
     "output_type": "execute_result"
    },
    {
     "data": {
      "image/png": "[encoded data removed]",
      "text/plain": [
       "<Figure size 640x480 with 1 Axes>"
      ]
     },
     "metadata": {},
     "output_type": "display_data"
    }
   ],
   "source": [
    "sns.boxplot(data=new)"
   ]
  },
  {
   "cell_type": "code",
   "execution_count": 10,
   "id": "a8d328bd",
   "metadata": {},
   "outputs": [
    {
     "data": {
      "text/plain": [
       "233.5"
      ]
     },
     "execution_count": 10,
     "metadata": {},
     "output_type": "execute_result"
    }
   ],
   "source": [
    "q1 = new['Overall_rank'].quantile(0.25)\n",
    "q3 = new['Overall_rank'].quantile(0.75)\n",
    "iqr = q3-q1 #Interquartile range\n",
    "\n",
    "upper_limit = q3+1.5*iqr #acceptable range\n",
    "upper_limit"
   ]
  },
  {
   "cell_type": "code",
   "execution_count": 11,
   "id": "2f042198",
   "metadata": {},
   "outputs": [],
   "source": [
    "new['Overall_rank']=np.where(new['Overall_rank'] > upper_limit,upper_limit,new['Overall_rank']) # upper lim"
   ]
  },
  {
   "cell_type": "code",
   "execution_count": 12,
   "id": "e0dca59a",
   "metadata": {},
   "outputs": [
    {
     "data": {
      "text/plain": [
       "<AxesSubplot:>"
      ]
     },
     "execution_count": 12,
     "metadata": {},
     "output_type": "execute_result"
    },
    {
     "data": {
      "image/png": "[encoded data removed]",
      "text/plain": [
       "<Figure size 640x480 with 1 Axes>"
      ]
     },
     "metadata": {},
     "output_type": "display_data"
    }
   ],
   "source": [
    "sns.boxplot(data=new)"
   ]
  },
  {
   "cell_type": "code",
   "execution_count": 13,
   "id": "a00afd44",
   "metadata": {},
   "outputs": [
    {
     "data": {
      "text/plain": [
       "8.644499999999999"
      ]
     },
     "execution_count": 13,
     "metadata": {},
     "output_type": "execute_result"
    }
   ],
   "source": [
    "q1 = new['Score'].quantile(0.25)\n",
    "q3 = new['Score'].quantile(0.75)\n",
    "iqr = q3-q1 #Interquartile range\n",
    "\n",
    "upper_limit = q3+1.5*iqr #acceptable range\n",
    "upper_limit"
   ]
  },
  {
   "cell_type": "code",
   "execution_count": 14,
   "id": "1eba6703",
   "metadata": {},
   "outputs": [],
   "source": [
    "new['Score']=np.where(new['Score'] > upper_limit,upper_limit,new['Score']) # upper lim"
   ]
  },
  {
   "cell_type": "code",
   "execution_count": 15,
   "id": "904392c3",
   "metadata": {},
   "outputs": [
    {
     "data": {
      "text/plain": [
       "<AxesSubplot:>"
      ]
     },
     "execution_count": 15,
     "metadata": {},
     "output_type": "execute_result"
    },
    {
     "data": {
      "image/png": "[encoded data removed]",
      "text/plain": [
       "<Figure size 640x480 with 1 Axes>"
      ]
     },
     "metadata": {},
     "output_type": "display_data"
    }
   ],
   "source": [
    "sns.boxplot(data=new)"
   ]
  },
  {
   "cell_type": "code",
   "execution_count": 16,
   "id": "35032d81",
   "metadata": {},
   "outputs": [
    {
     "data": {
      "text/plain": [
       "2.177125"
      ]
     },
     "execution_count": 16,
     "metadata": {},
     "output_type": "execute_result"
    }
   ],
   "source": [
    "q1 = new['GDP_per_capita'].quantile(0.25)\n",
    "q3 = new['GDP_per_capita'].quantile(0.75)\n",
    "iqr = q3-q1 #Interquartile range\n",
    "\n",
    "upper_limit = q3+1.5*iqr #acceptable range\n",
    "upper_limit"
   ]
  },
  {
   "cell_type": "code",
   "execution_count": 17,
   "id": "ad12fff2",
   "metadata": {},
   "outputs": [],
   "source": [
    "new['GDP_per_capita']=np.where(new['GDP_per_capita'] > upper_limit,upper_limit,new['GDP_per_capita']) # upper lim"
   ]
  },
  {
   "cell_type": "code",
   "execution_count": 18,
   "id": "e762aafe",
   "metadata": {},
   "outputs": [
    {
     "data": {
      "text/plain": [
       "<AxesSubplot:>"
      ]
     },
     "execution_count": 18,
     "metadata": {},
     "output_type": "execute_result"
    },
    {
     "data": {
      "image/png": "[encoded data removed]",
      "text/plain": [
       "<Figure size 640x480 with 1 Axes>"
      ]
     },
     "metadata": {},
     "output_type": "display_data"
    }
   ],
   "source": [
    "sns.boxplot(data=new)"
   ]
  },
  {
   "cell_type": "code",
   "execution_count": 19,
   "id": "ea7652f9",
   "metadata": {},
   "outputs": [
    {
     "data": {
      "text/plain": [
       "2.047625"
      ]
     },
     "execution_count": 19,
     "metadata": {},
     "output_type": "execute_result"
    }
   ],
   "source": [
    "q1 = new['Social_support'].quantile(0.25)\n",
    "q3 = new['Social_support'].quantile(0.75)\n",
    "iqr = q3-q1 #Interquartile range\n",
    "\n",
    "upper_limit = q3+1.5*iqr #acceptable range\n",
    "upper_limit"
   ]
  },
  {
   "cell_type": "code",
   "execution_count": 20,
   "id": "55b8d137",
   "metadata": {},
   "outputs": [],
   "source": [
    "new['Social_support']=np.where(new['Social_support'] > upper_limit,upper_limit,new['Social_support']) # upper limit\n"
   ]
  },
  {
   "cell_type": "code",
   "execution_count": 21,
   "id": "f1c9582f",
   "metadata": {},
   "outputs": [
    {
     "data": {
      "text/plain": [
       "<AxesSubplot:>"
      ]
     },
     "execution_count": 21,
     "metadata": {},
     "output_type": "execute_result"
    },
    {
     "data": {
      "image/png": "[encoded data removed]",
      "text/plain": [
       "<Figure size 640x480 with 1 Axes>"
      ]
     },
     "metadata": {},
     "output_type": "display_data"
    }
   ],
   "source": [
    "sns.boxplot(data=new)"
   ]
  },
  {
   "cell_type": "code",
   "execution_count": 22,
   "id": "3acbe6cc",
   "metadata": {},
   "outputs": [
    {
     "data": {
      "text/plain": [
       "1.38275"
      ]
     },
     "execution_count": 22,
     "metadata": {},
     "output_type": "execute_result"
    }
   ],
   "source": [
    "q1 = new['Healthy_life_expectancy'].quantile(0.25)\n",
    "q3 = new['Healthy_life_expectancy'].quantile(0.75)\n",
    "iqr = q3-q1 #Interquartile range\n",
    "\n",
    "upper_limit = q3+1.5*iqr #acceptable range\n",
    "upper_limit"
   ]
  },
  {
   "cell_type": "code",
   "execution_count": 23,
   "id": "f7e7e7aa",
   "metadata": {},
   "outputs": [],
   "source": [
    "new['Healthy_life_expectancy']=np.where(new['Healthy_life_expectancy'] > upper_limit,upper_limit,new['Healthy_life_expectancy']) # upper lim"
   ]
  },
  {
   "cell_type": "code",
   "execution_count": 24,
   "id": "3057cafd",
   "metadata": {},
   "outputs": [
    {
     "data": {
      "text/plain": [
       "<AxesSubplot:>"
      ]
     },
     "execution_count": 24,
     "metadata": {},
     "output_type": "execute_result"
    },
    {
     "data": {
      "image/png": "[encoded data removed]",
      "text/plain": [
       "<Figure size 640x480 with 1 Axes>"
      ]
     },
     "metadata": {},
     "output_type": "display_data"
    }
   ],
   "source": [
    "sns.boxplot(data=new)"
   ]
  },
  {
   "cell_type": "code",
   "execution_count": 25,
   "id": "6f5b8830",
   "metadata": {},
   "outputs": [
    {
     "data": {
      "text/plain": [
       "0.806125"
      ]
     },
     "execution_count": 25,
     "metadata": {},
     "output_type": "execute_result"
    }
   ],
   "source": [
    "q1 = new['Freedom_to_make_life_choices'].quantile(0.25)\n",
    "q3 = new['Freedom_to_make_life_choices'].quantile(0.75)\n",
    "iqr = q3-q1 #Interquartile range\n",
    "\n",
    "upper_limit = q3+1.5*iqr #acceptable range\n",
    "upper_limit"
   ]
  },
  {
   "cell_type": "code",
   "execution_count": 26,
   "id": "aeb14d98",
   "metadata": {},
   "outputs": [],
   "source": [
    "new['Freedom_to_make_life_choices']=np.where(new['Freedom_to_make_life_choices'] > upper_limit,upper_limit,new['Freedom_to_make_life_choices']) # upper lim"
   ]
  },
  {
   "cell_type": "code",
   "execution_count": 27,
   "id": "a90d7fe6",
   "metadata": {},
   "outputs": [
    {
     "data": {
      "text/plain": [
       "<AxesSubplot:>"
      ]
     },
     "execution_count": 27,
     "metadata": {},
     "output_type": "execute_result"
    },
    {
     "data": {
      "image/png": "[encoded data removed]",
      "text/plain": [
       "<Figure size 640x480 with 1 Axes>"
      ]
     },
     "metadata": {},
     "output_type": "display_data"
    }
   ],
   "source": [
    "sns.boxplot(data=new)"
   ]
  },
  {
   "cell_type": "code",
   "execution_count": 28,
   "id": "04a96262",
   "metadata": {},
   "outputs": [
    {
     "data": {
      "text/plain": [
       "0.4575"
      ]
     },
     "execution_count": 28,
     "metadata": {},
     "output_type": "execute_result"
    }
   ],
   "source": [
    "q1 = new['Generosity'].quantile(0.25)\n",
    "q3 = new['Generosity'].quantile(0.75)\n",
    "iqr = q3-q1 #Interquartile range\n",
    "\n",
    "upper_limit = q3+1.5*iqr #acceptable range\n",
    "upper_limit"
   ]
  },
  {
   "cell_type": "code",
   "execution_count": 29,
   "id": "fbe8880c",
   "metadata": {},
   "outputs": [],
   "source": [
    "new['Generositys']=np.where(new['Generosity'] > upper_limit,upper_limit,new['Generosity']) # upper lim"
   ]
  },
  {
   "cell_type": "code",
   "execution_count": 30,
   "id": "2b79e550",
   "metadata": {},
   "outputs": [
    {
     "data": {
      "text/plain": [
       "<AxesSubplot:>"
      ]
     },
     "execution_count": 30,
     "metadata": {},
     "output_type": "execute_result"
    },
    {
     "data": {
      "image/png": "[encoded data removed]",
      "text/plain": [
       "<Figure size 640x480 with 1 Axes>"
      ]
     },
     "metadata": {},
     "output_type": "display_data"
    }
   ],
   "source": [
    "sns.boxplot(data=new)"
   ]
  },
  {
   "cell_type": "code",
   "execution_count": 31,
   "id": "f3dc67c4",
   "metadata": {},
   "outputs": [
    {
     "data": {
      "text/plain": [
       "0.28262499999999996"
      ]
     },
     "execution_count": 31,
     "metadata": {},
     "output_type": "execute_result"
    }
   ],
   "source": [
    "q1 = new['Perceptions_of_corruption'].quantile(0.25)\n",
    "q3 = new['Perceptions_of_corruption'].quantile(0.75)\n",
    "iqr = q3-q1 #Interquartile range\n",
    "\n",
    "upper_limit = q3+1.5*iqr #acceptable range\n",
    "upper_limit"
   ]
  },
  {
   "cell_type": "code",
   "execution_count": 32,
   "id": "8ff12e96",
   "metadata": {},
   "outputs": [],
   "source": [
    "new['Perceptions_of_corruption']=np.where(new['Perceptions_of_corruption'] > upper_limit,upper_limit,new['Perceptions_of_corruption']) # upper lim"
   ]
  },
  {
   "cell_type": "code",
   "execution_count": 33,
   "id": "a0f1680d",
   "metadata": {},
   "outputs": [
    {
     "data": {
      "text/plain": [
       "<AxesSubplot:>"
      ]
     },
     "execution_count": 33,
     "metadata": {},
     "output_type": "execute_result"
    },
    {
     "data": {
      "image/png": "[encoded data removed]",
      "text/plain": [
       "<Figure size 640x480 with 1 Axes>"
      ]
     },
     "metadata": {},
     "output_type": "display_data"
    }
   ],
   "source": [
    "sns.boxplot(data=new)"
   ]
  },
  {
   "cell_type": "code",
   "execution_count": 34,
   "id": "5bb47a6a",
   "metadata": {},
   "outputs": [
    {
     "data": {
      "text/plain": [
       "-76.5"
      ]
     },
     "execution_count": 34,
     "metadata": {},
     "output_type": "execute_result"
    }
   ],
   "source": [
    "q1 = new['Overall_rank'].quantile(0.25)\n",
    "q3 = new['Overall_rank'].quantile(0.75)\n",
    "iqr = q3-q1 #Interquartile range\n",
    "\n",
    "lower_limit = q1-1.5*iqr #acceptable range\n",
    "lower_limit"
   ]
  },
  {
   "cell_type": "code",
   "execution_count": 35,
   "id": "558966a0",
   "metadata": {},
   "outputs": [],
   "source": [
    "new['Overall_rank']=np.where(new['Overall_rank'] < upper_limit,upper_limit,new['Overall_rank']) # lower lim"
   ]
  },
  {
   "cell_type": "code",
   "execution_count": 36,
   "id": "f2ffb075",
   "metadata": {},
   "outputs": [
    {
     "data": {
      "text/plain": [
       "2.0845000000000007"
      ]
     },
     "execution_count": 36,
     "metadata": {},
     "output_type": "execute_result"
    }
   ],
   "source": [
    "q1 = new['Score'].quantile(0.25)\n",
    "q3 = new['Score'].quantile(0.75)\n",
    "iqr = q3-q1 #Interquartile range\n",
    "\n",
    "lower_limit = q1-1.5*iqr #acceptable range\n",
    "lower_limit"
   ]
  },
  {
   "cell_type": "code",
   "execution_count": 37,
   "id": "a2281be2",
   "metadata": {},
   "outputs": [],
   "source": [
    "new['Score']=np.where(new['Score'] < upper_limit,upper_limit,new['Score']) # lower lim"
   ]
  },
  {
   "cell_type": "code",
   "execution_count": 38,
   "id": "c300864c",
   "metadata": {},
   "outputs": [
    {
     "data": {
      "text/plain": [
       "-0.34187500000000026"
      ]
     },
     "execution_count": 38,
     "metadata": {},
     "output_type": "execute_result"
    }
   ],
   "source": [
    "q1 = new['GDP_per_capita'].quantile(0.25)\n",
    "q3 = new['GDP_per_capita'].quantile(0.75)\n",
    "iqr = q3-q1 #Interquartile range\n",
    "\n",
    "lower_limit = q1-1.5*iqr #acceptable range\n",
    "lower_limit"
   ]
  },
  {
   "cell_type": "code",
   "execution_count": 39,
   "id": "1355c8bc",
   "metadata": {},
   "outputs": [],
   "source": [
    "new['GDP_per_capita']=np.where(new['GDP_per_capita'] < upper_limit,upper_limit,new['GDP_per_capita']) # lower lim"
   ]
  },
  {
   "cell_type": "code",
   "execution_count": 40,
   "id": "5d391e02",
   "metadata": {},
   "outputs": [
    {
     "data": {
      "text/plain": [
       "0.46062500000000006"
      ]
     },
     "execution_count": 40,
     "metadata": {},
     "output_type": "execute_result"
    }
   ],
   "source": [
    "q1 = new['Social_support'].quantile(0.25)\n",
    "q3 = new['Social_support'].quantile(0.75)\n",
    "iqr = q3-q1 #Interquartile range\n",
    "\n",
    "lower_limit = q1-1.5*iqr #acceptable range\n",
    "lower_limit"
   ]
  },
  {
   "cell_type": "code",
   "execution_count": 41,
   "id": "6f6eb1d3",
   "metadata": {},
   "outputs": [],
   "source": [
    "new['Social_support']=np.where(new['Social_support'] < upper_limit,upper_limit,new['Social_support']) # lower lim"
   ]
  },
  {
   "cell_type": "code",
   "execution_count": 42,
   "id": "c0b6e3d3",
   "metadata": {},
   "outputs": [
    {
     "data": {
      "text/plain": [
       "0.04675000000000018"
      ]
     },
     "execution_count": 42,
     "metadata": {},
     "output_type": "execute_result"
    }
   ],
   "source": [
    "q1 = new['Healthy_life_expectancy'].quantile(0.25)\n",
    "q3 = new['Healthy_life_expectancy'].quantile(0.75)\n",
    "iqr = q3-q1 #Interquartile range\n",
    "\n",
    "lower_limit = q1-1.5*iqr #acceptable range\n",
    "lower_limit"
   ]
  },
  {
   "cell_type": "code",
   "execution_count": 43,
   "id": "987bb73a",
   "metadata": {},
   "outputs": [],
   "source": [
    "new['Healthy_life_expectancy']=np.where(new['Healthy_life_expectancy'] < upper_limit,upper_limit,new['Healthy_life_expectancy']) # lower lim"
   ]
  },
  {
   "cell_type": "code",
   "execution_count": 44,
   "id": "59285f1d",
   "metadata": {},
   "outputs": [
    {
     "data": {
      "text/plain": [
       "0.009124999999999994"
      ]
     },
     "execution_count": 44,
     "metadata": {},
     "output_type": "execute_result"
    }
   ],
   "source": [
    "q1 = new['Freedom_to_make_life_choices'].quantile(0.25)\n",
    "q3 = new['Freedom_to_make_life_choices'].quantile(0.75)\n",
    "iqr = q3-q1 #Interquartile range\n",
    "\n",
    "lower_limit = q1-1.5*iqr #acceptable range\n",
    "lower_limit"
   ]
  },
  {
   "cell_type": "code",
   "execution_count": 45,
   "id": "50d15218",
   "metadata": {},
   "outputs": [],
   "source": [
    "new['Freedom_to_make_life_choices']=np.where(new['Freedom_to_make_life_choices'] < upper_limit,upper_limit,new['Freedom_to_make_life_choices']) # lower lim"
   ]
  },
  {
   "cell_type": "code",
   "execution_count": 46,
   "id": "d7b362cb",
   "metadata": {},
   "outputs": [
    {
     "data": {
      "text/plain": [
       "-0.10050000000000002"
      ]
     },
     "execution_count": 46,
     "metadata": {},
     "output_type": "execute_result"
    }
   ],
   "source": [
    "q1 = new['Generosity'].quantile(0.25)\n",
    "q3 = new['Generosity'].quantile(0.75)\n",
    "iqr = q3-q1 #Interquartile range\n",
    "\n",
    "lower_limit = q1-1.5*iqr #acceptable range\n",
    "lower_limit"
   ]
  },
  {
   "cell_type": "code",
   "execution_count": 47,
   "id": "162ce9b7",
   "metadata": {},
   "outputs": [],
   "source": [
    "new['Generosity']=np.where(new['Generosity'] < upper_limit,upper_limit,new['Generosity']) # lower lim"
   ]
  },
  {
   "cell_type": "code",
   "execution_count": 48,
   "id": "d2ae5ba5",
   "metadata": {},
   "outputs": [
    {
     "data": {
      "text/plain": [
       "-0.09437499999999997"
      ]
     },
     "execution_count": 48,
     "metadata": {},
     "output_type": "execute_result"
    }
   ],
   "source": [
    "q1 = new['Perceptions_of_corruption'].quantile(0.25)\n",
    "q3 = new['Perceptions_of_corruption'].quantile(0.75)\n",
    "iqr = q3-q1 #Interquartile range\n",
    "\n",
    "lower_limit = q1-1.5*iqr #acceptable range\n",
    "lower_limit"
   ]
  },
  {
   "cell_type": "code",
   "execution_count": 49,
   "id": "68593524",
   "metadata": {},
   "outputs": [],
   "source": [
    "new['Perception_of_corruption']=np.where(new['Perceptions_of_corruption'] < upper_limit,upper_limit,new['Perceptions_of_corruption']) # lower lim"
   ]
  },
  {
   "cell_type": "code",
   "execution_count": 50,
   "id": "04d88de8",
   "metadata": {},
   "outputs": [
    {
     "data": {
      "text/plain": [
       "<AxesSubplot:>"
      ]
     },
     "execution_count": 50,
     "metadata": {},
     "output_type": "execute_result"
    },
    {
     "data": {
      "image/png": "[encoded data removed]",
      "text/plain": [
       "<Figure size 640x480 with 1 Axes>"
      ]
     },
     "metadata": {},
     "output_type": "display_data"
    }
   ],
   "source": [
    "sns.boxplot(data=new)"
   ]
  },
  {
   "cell_type": "code",
   "execution_count": 51,
   "id": "d7bb390c",
   "metadata": {},
   "outputs": [
    {
     "data": {
      "text/plain": [
       "Overall_rank                    0\n",
       "Country_or_region               0\n",
       "Score                           0\n",
       "GDP_per_capita                  0\n",
       "Social_support                  0\n",
       "Healthy_life_expectancy         0\n",
       "Freedom_to_make_life_choices    0\n",
       "Generosity                      0\n",
       "Perceptions_of_corruption       0\n",
       "Generositys                     0\n",
       "Perception_of_corruption        0\n",
       "dtype: int64"
      ]
     },
     "execution_count": 51,
     "metadata": {},
     "output_type": "execute_result"
    }
   ],
   "source": [
    "new.isna().sum() "
   ]
  },
  {
   "cell_type": "code",
   "execution_count": 52,
   "id": "edecc123",
   "metadata": {},
   "outputs": [
    {
     "data": {
      "text/html": [
       "<div>\n",
       "<style scoped>\n",
       "    .dataframe tbody tr th:only-of-type {\n",
       "        vertical-align: middle;\n",
       "    }\n",
       "\n",
       "    .dataframe tbody tr th {\n",
       "        vertical-align: top;\n",
       "    }\n",
       "\n",
       "    .dataframe thead th {\n",
       "        text-align: right;\n",
       "    }\n",
       "</style>\n",
       "<table border=\"1\" class=\"dataframe\">\n",
       "  <thead>\n",
       "    <tr style=\"text-align: right;\">\n",
       "      <th></th>\n",
       "      <th>Overall_rank</th>\n",
       "      <th>Country_or_region</th>\n",
       "      <th>Score</th>\n",
       "      <th>GDP_per_capita</th>\n",
       "      <th>Social_support</th>\n",
       "      <th>Healthy_life_expectancy</th>\n",
       "      <th>Freedom_to_make_life_choices</th>\n",
       "      <th>Generosity</th>\n",
       "      <th>Perceptions_of_corruption</th>\n",
       "      <th>Generositys</th>\n",
       "      <th>Perception_of_corruption</th>\n",
       "    </tr>\n",
       "  </thead>\n",
       "  <tbody>\n",
       "    <tr>\n",
       "      <th>0</th>\n",
       "      <td>1.0</td>\n",
       "      <td>Finland</td>\n",
       "      <td>7.769</td>\n",
       "      <td>1.340</td>\n",
       "      <td>1.587</td>\n",
       "      <td>0.986</td>\n",
       "      <td>0.596</td>\n",
       "      <td>0.282625</td>\n",
       "      <td>0.282625</td>\n",
       "      <td>0.153</td>\n",
       "      <td>0.282625</td>\n",
       "    </tr>\n",
       "    <tr>\n",
       "      <th>1</th>\n",
       "      <td>2.0</td>\n",
       "      <td>Denmark</td>\n",
       "      <td>7.600</td>\n",
       "      <td>1.383</td>\n",
       "      <td>1.573</td>\n",
       "      <td>0.996</td>\n",
       "      <td>0.592</td>\n",
       "      <td>0.282625</td>\n",
       "      <td>0.282625</td>\n",
       "      <td>0.252</td>\n",
       "      <td>0.282625</td>\n",
       "    </tr>\n",
       "    <tr>\n",
       "      <th>2</th>\n",
       "      <td>3.0</td>\n",
       "      <td>Norway</td>\n",
       "      <td>7.554</td>\n",
       "      <td>1.488</td>\n",
       "      <td>1.582</td>\n",
       "      <td>1.028</td>\n",
       "      <td>0.603</td>\n",
       "      <td>0.282625</td>\n",
       "      <td>0.282625</td>\n",
       "      <td>0.271</td>\n",
       "      <td>0.282625</td>\n",
       "    </tr>\n",
       "    <tr>\n",
       "      <th>3</th>\n",
       "      <td>4.0</td>\n",
       "      <td>Iceland</td>\n",
       "      <td>7.494</td>\n",
       "      <td>1.380</td>\n",
       "      <td>1.624</td>\n",
       "      <td>1.026</td>\n",
       "      <td>0.591</td>\n",
       "      <td>0.354000</td>\n",
       "      <td>0.118000</td>\n",
       "      <td>0.354</td>\n",
       "      <td>0.282625</td>\n",
       "    </tr>\n",
       "    <tr>\n",
       "      <th>4</th>\n",
       "      <td>5.0</td>\n",
       "      <td>Netherlands</td>\n",
       "      <td>7.488</td>\n",
       "      <td>1.396</td>\n",
       "      <td>1.522</td>\n",
       "      <td>0.999</td>\n",
       "      <td>0.557</td>\n",
       "      <td>0.322000</td>\n",
       "      <td>0.282625</td>\n",
       "      <td>0.322</td>\n",
       "      <td>0.282625</td>\n",
       "    </tr>\n",
       "  </tbody>\n",
       "</table>\n",
       "</div>"
      ],
      "text/plain": [
       "   Overall_rank Country_or_region  Score  GDP_per_capita  Social_support  \\\n",
       "0           1.0           Finland  7.769           1.340           1.587   \n",
       "1           2.0           Denmark  7.600           1.383           1.573   \n",
       "2           3.0            Norway  7.554           1.488           1.582   \n",
       "3           4.0           Iceland  7.494           1.380           1.624   \n",
       "4           5.0       Netherlands  7.488           1.396           1.522   \n",
       "\n",
       "   Healthy_life_expectancy  Freedom_to_make_life_choices  Generosity  \\\n",
       "0                    0.986                         0.596    0.282625   \n",
       "1                    0.996                         0.592    0.282625   \n",
       "2                    1.028                         0.603    0.282625   \n",
       "3                    1.026                         0.591    0.354000   \n",
       "4                    0.999                         0.557    0.322000   \n",
       "\n",
       "   Perceptions_of_corruption  Generositys  Perception_of_corruption  \n",
       "0                   0.282625        0.153                  0.282625  \n",
       "1                   0.282625        0.252                  0.282625  \n",
       "2                   0.282625        0.271                  0.282625  \n",
       "3                   0.118000        0.354                  0.282625  \n",
       "4                   0.282625        0.322                  0.282625  "
      ]
     },
     "execution_count": 52,
     "metadata": {},
     "output_type": "execute_result"
    }
   ],
   "source": [
    "new.head()"
   ]
  },
  {
   "cell_type": "code",
   "execution_count": 53,
   "id": "0efb7c2e",
   "metadata": {},
   "outputs": [
    {
     "data": {
      "text/html": [
       "<div>\n",
       "<style scoped>\n",
       "    .dataframe tbody tr th:only-of-type {\n",
       "        vertical-align: middle;\n",
       "    }\n",
       "\n",
       "    .dataframe tbody tr th {\n",
       "        vertical-align: top;\n",
       "    }\n",
       "\n",
       "    .dataframe thead th {\n",
       "        text-align: right;\n",
       "    }\n",
       "</style>\n",
       "<table border=\"1\" class=\"dataframe\">\n",
       "  <thead>\n",
       "    <tr style=\"text-align: right;\">\n",
       "      <th></th>\n",
       "      <th>Overall_rank</th>\n",
       "      <th>Score</th>\n",
       "      <th>GDP_per_capita</th>\n",
       "      <th>Social_support</th>\n",
       "      <th>Healthy_life_expectancy</th>\n",
       "      <th>Freedom_to_make_life_choices</th>\n",
       "      <th>Generosity</th>\n",
       "      <th>Perceptions_of_corruption</th>\n",
       "      <th>Generositys</th>\n",
       "      <th>Perception_of_corruption</th>\n",
       "    </tr>\n",
       "  </thead>\n",
       "  <tbody>\n",
       "    <tr>\n",
       "      <th>0</th>\n",
       "      <td>1.0</td>\n",
       "      <td>7.769</td>\n",
       "      <td>1.340000</td>\n",
       "      <td>1.587000</td>\n",
       "      <td>0.986000</td>\n",
       "      <td>0.596000</td>\n",
       "      <td>0.282625</td>\n",
       "      <td>0.282625</td>\n",
       "      <td>0.153</td>\n",
       "      <td>0.282625</td>\n",
       "    </tr>\n",
       "    <tr>\n",
       "      <th>1</th>\n",
       "      <td>2.0</td>\n",
       "      <td>7.600</td>\n",
       "      <td>1.383000</td>\n",
       "      <td>1.573000</td>\n",
       "      <td>0.996000</td>\n",
       "      <td>0.592000</td>\n",
       "      <td>0.282625</td>\n",
       "      <td>0.282625</td>\n",
       "      <td>0.252</td>\n",
       "      <td>0.282625</td>\n",
       "    </tr>\n",
       "    <tr>\n",
       "      <th>2</th>\n",
       "      <td>3.0</td>\n",
       "      <td>7.554</td>\n",
       "      <td>1.488000</td>\n",
       "      <td>1.582000</td>\n",
       "      <td>1.028000</td>\n",
       "      <td>0.603000</td>\n",
       "      <td>0.282625</td>\n",
       "      <td>0.282625</td>\n",
       "      <td>0.271</td>\n",
       "      <td>0.282625</td>\n",
       "    </tr>\n",
       "    <tr>\n",
       "      <th>3</th>\n",
       "      <td>4.0</td>\n",
       "      <td>7.494</td>\n",
       "      <td>1.380000</td>\n",
       "      <td>1.624000</td>\n",
       "      <td>1.026000</td>\n",
       "      <td>0.591000</td>\n",
       "      <td>0.354000</td>\n",
       "      <td>0.118000</td>\n",
       "      <td>0.354</td>\n",
       "      <td>0.282625</td>\n",
       "    </tr>\n",
       "    <tr>\n",
       "      <th>4</th>\n",
       "      <td>5.0</td>\n",
       "      <td>7.488</td>\n",
       "      <td>1.396000</td>\n",
       "      <td>1.522000</td>\n",
       "      <td>0.999000</td>\n",
       "      <td>0.557000</td>\n",
       "      <td>0.322000</td>\n",
       "      <td>0.282625</td>\n",
       "      <td>0.322</td>\n",
       "      <td>0.282625</td>\n",
       "    </tr>\n",
       "    <tr>\n",
       "      <th>...</th>\n",
       "      <td>...</td>\n",
       "      <td>...</td>\n",
       "      <td>...</td>\n",
       "      <td>...</td>\n",
       "      <td>...</td>\n",
       "      <td>...</td>\n",
       "      <td>...</td>\n",
       "      <td>...</td>\n",
       "      <td>...</td>\n",
       "      <td>...</td>\n",
       "    </tr>\n",
       "    <tr>\n",
       "      <th>151</th>\n",
       "      <td>152.0</td>\n",
       "      <td>3.334</td>\n",
       "      <td>0.359000</td>\n",
       "      <td>0.711000</td>\n",
       "      <td>0.614000</td>\n",
       "      <td>0.555000</td>\n",
       "      <td>0.282625</td>\n",
       "      <td>0.282625</td>\n",
       "      <td>0.217</td>\n",
       "      <td>0.282625</td>\n",
       "    </tr>\n",
       "    <tr>\n",
       "      <th>152</th>\n",
       "      <td>153.0</td>\n",
       "      <td>3.231</td>\n",
       "      <td>0.476000</td>\n",
       "      <td>0.885000</td>\n",
       "      <td>0.499000</td>\n",
       "      <td>0.417000</td>\n",
       "      <td>0.282625</td>\n",
       "      <td>0.147000</td>\n",
       "      <td>0.276</td>\n",
       "      <td>0.282625</td>\n",
       "    </tr>\n",
       "    <tr>\n",
       "      <th>153</th>\n",
       "      <td>154.0</td>\n",
       "      <td>3.203</td>\n",
       "      <td>0.350000</td>\n",
       "      <td>0.517000</td>\n",
       "      <td>0.361000</td>\n",
       "      <td>0.282625</td>\n",
       "      <td>0.282625</td>\n",
       "      <td>0.025000</td>\n",
       "      <td>0.158</td>\n",
       "      <td>0.282625</td>\n",
       "    </tr>\n",
       "    <tr>\n",
       "      <th>154</th>\n",
       "      <td>155.0</td>\n",
       "      <td>3.083</td>\n",
       "      <td>0.282625</td>\n",
       "      <td>0.282625</td>\n",
       "      <td>0.282625</td>\n",
       "      <td>0.282625</td>\n",
       "      <td>0.282625</td>\n",
       "      <td>0.035000</td>\n",
       "      <td>0.235</td>\n",
       "      <td>0.282625</td>\n",
       "    </tr>\n",
       "    <tr>\n",
       "      <th>155</th>\n",
       "      <td>156.0</td>\n",
       "      <td>2.853</td>\n",
       "      <td>0.306000</td>\n",
       "      <td>0.575000</td>\n",
       "      <td>0.295000</td>\n",
       "      <td>0.282625</td>\n",
       "      <td>0.282625</td>\n",
       "      <td>0.091000</td>\n",
       "      <td>0.202</td>\n",
       "      <td>0.282625</td>\n",
       "    </tr>\n",
       "  </tbody>\n",
       "</table>\n",
       "<p>156 rows × 10 columns</p>\n",
       "</div>"
      ],
      "text/plain": [
       "     Overall_rank  Score  GDP_per_capita  Social_support  \\\n",
       "0             1.0  7.769        1.340000        1.587000   \n",
       "1             2.0  7.600        1.383000        1.573000   \n",
       "2             3.0  7.554        1.488000        1.582000   \n",
       "3             4.0  7.494        1.380000        1.624000   \n",
       "4             5.0  7.488        1.396000        1.522000   \n",
       "..            ...    ...             ...             ...   \n",
       "151         152.0  3.334        0.359000        0.711000   \n",
       "152         153.0  3.231        0.476000        0.885000   \n",
       "153         154.0  3.203        0.350000        0.517000   \n",
       "154         155.0  3.083        0.282625        0.282625   \n",
       "155         156.0  2.853        0.306000        0.575000   \n",
       "\n",
       "     Healthy_life_expectancy  Freedom_to_make_life_choices  Generosity  \\\n",
       "0                   0.986000                      0.596000    0.282625   \n",
       "1                   0.996000                      0.592000    0.282625   \n",
       "2                   1.028000                      0.603000    0.282625   \n",
       "3                   1.026000                      0.591000    0.354000   \n",
       "4                   0.999000                      0.557000    0.322000   \n",
       "..                       ...                           ...         ...   \n",
       "151                 0.614000                      0.555000    0.282625   \n",
       "152                 0.499000                      0.417000    0.282625   \n",
       "153                 0.361000                      0.282625    0.282625   \n",
       "154                 0.282625                      0.282625    0.282625   \n",
       "155                 0.295000                      0.282625    0.282625   \n",
       "\n",
       "     Perceptions_of_corruption  Generositys  Perception_of_corruption  \n",
       "0                     0.282625        0.153                  0.282625  \n",
       "1                     0.282625        0.252                  0.282625  \n",
       "2                     0.282625        0.271                  0.282625  \n",
       "3                     0.118000        0.354                  0.282625  \n",
       "4                     0.282625        0.322                  0.282625  \n",
       "..                         ...          ...                       ...  \n",
       "151                   0.282625        0.217                  0.282625  \n",
       "152                   0.147000        0.276                  0.282625  \n",
       "153                   0.025000        0.158                  0.282625  \n",
       "154                   0.035000        0.235                  0.282625  \n",
       "155                   0.091000        0.202                  0.282625  \n",
       "\n",
       "[156 rows x 10 columns]"
      ]
     },
     "execution_count": 53,
     "metadata": {},
     "output_type": "execute_result"
    }
   ],
   "source": [
    "new = new.drop(['Country_or_region'],axis= 1)\n",
    "new"
   ]
  },
  {
   "cell_type": "code",
   "execution_count": 54,
   "id": "8cbebb55",
   "metadata": {},
   "outputs": [],
   "source": [
    "# Putting feature variable to X\n",
    "X = new.drop('Overall_rank', axis= 1)\n",
    "\n",
    "# Putting response variable to y\n",
    "y = new[['Overall_rank']]\n",
    "\n",
    "#random_state is the seed used by the random number generator. It can be any integer.\n",
    "from sklearn.model_selection import train_test_split\n",
    "X_train, X_test, y_train, y_test =train_test_split(X, y, train_size=0.7 ,random_state=120)"
   ]
  },
  {
   "cell_type": "code",
   "execution_count": 55,
   "id": "57bfdc68",
   "metadata": {},
   "outputs": [
    {
     "data": {
      "text/html": [
       "<div>\n",
       "<style scoped>\n",
       "    .dataframe tbody tr th:only-of-type {\n",
       "        vertical-align: middle;\n",
       "    }\n",
       "\n",
       "    .dataframe tbody tr th {\n",
       "        vertical-align: top;\n",
       "    }\n",
       "\n",
       "    .dataframe thead th {\n",
       "        text-align: right;\n",
       "    }\n",
       "</style>\n",
       "<table border=\"1\" class=\"dataframe\">\n",
       "  <thead>\n",
       "    <tr style=\"text-align: right;\">\n",
       "      <th></th>\n",
       "      <th>Overall_rank</th>\n",
       "      <th>Score</th>\n",
       "      <th>GDP_per_capita</th>\n",
       "      <th>Social_support</th>\n",
       "      <th>Healthy_life_expectancy</th>\n",
       "      <th>Freedom_to_make_life_choices</th>\n",
       "      <th>Generosity</th>\n",
       "      <th>Perceptions_of_corruption</th>\n",
       "      <th>Generositys</th>\n",
       "      <th>Perception_of_corruption</th>\n",
       "    </tr>\n",
       "  </thead>\n",
       "  <tbody>\n",
       "    <tr>\n",
       "      <th>59</th>\n",
       "      <td>60.0</td>\n",
       "      <td>5.809</td>\n",
       "      <td>1.173000</td>\n",
       "      <td>1.508</td>\n",
       "      <td>0.729</td>\n",
       "      <td>0.410</td>\n",
       "      <td>0.282625</td>\n",
       "      <td>0.096</td>\n",
       "      <td>0.146</td>\n",
       "      <td>0.282625</td>\n",
       "    </tr>\n",
       "    <tr>\n",
       "      <th>3</th>\n",
       "      <td>4.0</td>\n",
       "      <td>7.494</td>\n",
       "      <td>1.380000</td>\n",
       "      <td>1.624</td>\n",
       "      <td>1.026</td>\n",
       "      <td>0.591</td>\n",
       "      <td>0.354000</td>\n",
       "      <td>0.118</td>\n",
       "      <td>0.354</td>\n",
       "      <td>0.282625</td>\n",
       "    </tr>\n",
       "    <tr>\n",
       "      <th>113</th>\n",
       "      <td>114.0</td>\n",
       "      <td>4.628</td>\n",
       "      <td>0.282625</td>\n",
       "      <td>0.774</td>\n",
       "      <td>0.366</td>\n",
       "      <td>0.318</td>\n",
       "      <td>0.282625</td>\n",
       "      <td>0.102</td>\n",
       "      <td>0.188</td>\n",
       "      <td>0.282625</td>\n",
       "    </tr>\n",
       "    <tr>\n",
       "      <th>85</th>\n",
       "      <td>86.0</td>\n",
       "      <td>5.261</td>\n",
       "      <td>0.551000</td>\n",
       "      <td>1.438</td>\n",
       "      <td>0.723</td>\n",
       "      <td>0.508</td>\n",
       "      <td>0.300000</td>\n",
       "      <td>0.023</td>\n",
       "      <td>0.300</td>\n",
       "      <td>0.282625</td>\n",
       "    </tr>\n",
       "    <tr>\n",
       "      <th>152</th>\n",
       "      <td>153.0</td>\n",
       "      <td>3.231</td>\n",
       "      <td>0.476000</td>\n",
       "      <td>0.885</td>\n",
       "      <td>0.499</td>\n",
       "      <td>0.417</td>\n",
       "      <td>0.282625</td>\n",
       "      <td>0.147</td>\n",
       "      <td>0.276</td>\n",
       "      <td>0.282625</td>\n",
       "    </tr>\n",
       "  </tbody>\n",
       "</table>\n",
       "</div>"
      ],
      "text/plain": [
       "     Overall_rank  Score  GDP_per_capita  Social_support  \\\n",
       "59           60.0  5.809        1.173000           1.508   \n",
       "3             4.0  7.494        1.380000           1.624   \n",
       "113         114.0  4.628        0.282625           0.774   \n",
       "85           86.0  5.261        0.551000           1.438   \n",
       "152         153.0  3.231        0.476000           0.885   \n",
       "\n",
       "     Healthy_life_expectancy  Freedom_to_make_life_choices  Generosity  \\\n",
       "59                     0.729                         0.410    0.282625   \n",
       "3                      1.026                         0.591    0.354000   \n",
       "113                    0.366                         0.318    0.282625   \n",
       "85                     0.723                         0.508    0.300000   \n",
       "152                    0.499                         0.417    0.282625   \n",
       "\n",
       "     Perceptions_of_corruption  Generositys  Perception_of_corruption  \n",
       "59                       0.096        0.146                  0.282625  \n",
       "3                        0.118        0.354                  0.282625  \n",
       "113                      0.102        0.188                  0.282625  \n",
       "85                       0.023        0.300                  0.282625  \n",
       "152                      0.147        0.276                  0.282625  "
      ]
     },
     "execution_count": 55,
     "metadata": {},
     "output_type": "execute_result"
    }
   ],
   "source": [
    "df = pd.concat([y_train, X_train], axis=1)\n",
    "df.head()"
   ]
  },
  {
   "cell_type": "code",
   "execution_count": 56,
   "id": "f5c247e4",
   "metadata": {},
   "outputs": [
    {
     "data": {
      "text/html": [
       "<div>\n",
       "<style scoped>\n",
       "    .dataframe tbody tr th:only-of-type {\n",
       "        vertical-align: middle;\n",
       "    }\n",
       "\n",
       "    .dataframe tbody tr th {\n",
       "        vertical-align: top;\n",
       "    }\n",
       "\n",
       "    .dataframe thead th {\n",
       "        text-align: right;\n",
       "    }\n",
       "</style>\n",
       "<table border=\"1\" class=\"dataframe\">\n",
       "  <thead>\n",
       "    <tr style=\"text-align: right;\">\n",
       "      <th></th>\n",
       "      <th>Overall_rank</th>\n",
       "      <th>Score</th>\n",
       "      <th>GDP_per_capita</th>\n",
       "      <th>Social_support</th>\n",
       "      <th>Healthy_life_expectancy</th>\n",
       "      <th>Freedom_to_make_life_choices</th>\n",
       "      <th>Generosity</th>\n",
       "      <th>Perceptions_of_corruption</th>\n",
       "      <th>Generositys</th>\n",
       "      <th>Perception_of_corruption</th>\n",
       "    </tr>\n",
       "  </thead>\n",
       "  <tbody>\n",
       "    <tr>\n",
       "      <th>Overall_rank</th>\n",
       "      <td>1.00</td>\n",
       "      <td>-0.99</td>\n",
       "      <td>-0.80</td>\n",
       "      <td>-0.75</td>\n",
       "      <td>-0.80</td>\n",
       "      <td>-0.56</td>\n",
       "      <td>0.06</td>\n",
       "      <td>-0.35</td>\n",
       "      <td>-0.03</td>\n",
       "      <td>NaN</td>\n",
       "    </tr>\n",
       "    <tr>\n",
       "      <th>Score</th>\n",
       "      <td>-0.99</td>\n",
       "      <td>1.00</td>\n",
       "      <td>0.78</td>\n",
       "      <td>0.76</td>\n",
       "      <td>0.79</td>\n",
       "      <td>0.57</td>\n",
       "      <td>-0.03</td>\n",
       "      <td>0.37</td>\n",
       "      <td>0.06</td>\n",
       "      <td>NaN</td>\n",
       "    </tr>\n",
       "    <tr>\n",
       "      <th>GDP_per_capita</th>\n",
       "      <td>-0.80</td>\n",
       "      <td>0.78</td>\n",
       "      <td>1.00</td>\n",
       "      <td>0.75</td>\n",
       "      <td>0.86</td>\n",
       "      <td>0.42</td>\n",
       "      <td>-0.01</td>\n",
       "      <td>0.34</td>\n",
       "      <td>-0.06</td>\n",
       "      <td>NaN</td>\n",
       "    </tr>\n",
       "    <tr>\n",
       "      <th>Social_support</th>\n",
       "      <td>-0.75</td>\n",
       "      <td>0.76</td>\n",
       "      <td>0.75</td>\n",
       "      <td>1.00</td>\n",
       "      <td>0.75</td>\n",
       "      <td>0.47</td>\n",
       "      <td>-0.00</td>\n",
       "      <td>0.16</td>\n",
       "      <td>-0.04</td>\n",
       "      <td>NaN</td>\n",
       "    </tr>\n",
       "    <tr>\n",
       "      <th>Healthy_life_expectancy</th>\n",
       "      <td>-0.80</td>\n",
       "      <td>0.79</td>\n",
       "      <td>0.86</td>\n",
       "      <td>0.75</td>\n",
       "      <td>1.00</td>\n",
       "      <td>0.43</td>\n",
       "      <td>-0.03</td>\n",
       "      <td>0.31</td>\n",
       "      <td>-0.03</td>\n",
       "      <td>NaN</td>\n",
       "    </tr>\n",
       "    <tr>\n",
       "      <th>Freedom_to_make_life_choices</th>\n",
       "      <td>-0.56</td>\n",
       "      <td>0.57</td>\n",
       "      <td>0.42</td>\n",
       "      <td>0.47</td>\n",
       "      <td>0.43</td>\n",
       "      <td>1.00</td>\n",
       "      <td>0.16</td>\n",
       "      <td>0.49</td>\n",
       "      <td>0.28</td>\n",
       "      <td>NaN</td>\n",
       "    </tr>\n",
       "    <tr>\n",
       "      <th>Generosity</th>\n",
       "      <td>0.06</td>\n",
       "      <td>-0.03</td>\n",
       "      <td>-0.01</td>\n",
       "      <td>-0.00</td>\n",
       "      <td>-0.03</td>\n",
       "      <td>0.16</td>\n",
       "      <td>1.00</td>\n",
       "      <td>0.11</td>\n",
       "      <td>0.64</td>\n",
       "      <td>NaN</td>\n",
       "    </tr>\n",
       "    <tr>\n",
       "      <th>Perceptions_of_corruption</th>\n",
       "      <td>-0.35</td>\n",
       "      <td>0.37</td>\n",
       "      <td>0.34</td>\n",
       "      <td>0.16</td>\n",
       "      <td>0.31</td>\n",
       "      <td>0.49</td>\n",
       "      <td>0.11</td>\n",
       "      <td>1.00</td>\n",
       "      <td>0.33</td>\n",
       "      <td>NaN</td>\n",
       "    </tr>\n",
       "    <tr>\n",
       "      <th>Generositys</th>\n",
       "      <td>-0.03</td>\n",
       "      <td>0.06</td>\n",
       "      <td>-0.06</td>\n",
       "      <td>-0.04</td>\n",
       "      <td>-0.03</td>\n",
       "      <td>0.28</td>\n",
       "      <td>0.64</td>\n",
       "      <td>0.33</td>\n",
       "      <td>1.00</td>\n",
       "      <td>NaN</td>\n",
       "    </tr>\n",
       "    <tr>\n",
       "      <th>Perception_of_corruption</th>\n",
       "      <td>NaN</td>\n",
       "      <td>NaN</td>\n",
       "      <td>NaN</td>\n",
       "      <td>NaN</td>\n",
       "      <td>NaN</td>\n",
       "      <td>NaN</td>\n",
       "      <td>NaN</td>\n",
       "      <td>NaN</td>\n",
       "      <td>NaN</td>\n",
       "      <td>NaN</td>\n",
       "    </tr>\n",
       "  </tbody>\n",
       "</table>\n",
       "</div>"
      ],
      "text/plain": [
       "                              Overall_rank  Score  GDP_per_capita  \\\n",
       "Overall_rank                          1.00  -0.99           -0.80   \n",
       "Score                                -0.99   1.00            0.78   \n",
       "GDP_per_capita                       -0.80   0.78            1.00   \n",
       "Social_support                       -0.75   0.76            0.75   \n",
       "Healthy_life_expectancy              -0.80   0.79            0.86   \n",
       "Freedom_to_make_life_choices         -0.56   0.57            0.42   \n",
       "Generosity                            0.06  -0.03           -0.01   \n",
       "Perceptions_of_corruption            -0.35   0.37            0.34   \n",
       "Generositys                          -0.03   0.06           -0.06   \n",
       "Perception_of_corruption               NaN    NaN             NaN   \n",
       "\n",
       "                              Social_support  Healthy_life_expectancy  \\\n",
       "Overall_rank                           -0.75                    -0.80   \n",
       "Score                                   0.76                     0.79   \n",
       "GDP_per_capita                          0.75                     0.86   \n",
       "Social_support                          1.00                     0.75   \n",
       "Healthy_life_expectancy                 0.75                     1.00   \n",
       "Freedom_to_make_life_choices            0.47                     0.43   \n",
       "Generosity                             -0.00                    -0.03   \n",
       "Perceptions_of_corruption               0.16                     0.31   \n",
       "Generositys                            -0.04                    -0.03   \n",
       "Perception_of_corruption                 NaN                      NaN   \n",
       "\n",
       "                              Freedom_to_make_life_choices  Generosity  \\\n",
       "Overall_rank                                         -0.56        0.06   \n",
       "Score                                                 0.57       -0.03   \n",
       "GDP_per_capita                                        0.42       -0.01   \n",
       "Social_support                                        0.47       -0.00   \n",
       "Healthy_life_expectancy                               0.43       -0.03   \n",
       "Freedom_to_make_life_choices                          1.00        0.16   \n",
       "Generosity                                            0.16        1.00   \n",
       "Perceptions_of_corruption                             0.49        0.11   \n",
       "Generositys                                           0.28        0.64   \n",
       "Perception_of_corruption                               NaN         NaN   \n",
       "\n",
       "                              Perceptions_of_corruption  Generositys  \\\n",
       "Overall_rank                                      -0.35        -0.03   \n",
       "Score                                              0.37         0.06   \n",
       "GDP_per_capita                                     0.34        -0.06   \n",
       "Social_support                                     0.16        -0.04   \n",
       "Healthy_life_expectancy                            0.31        -0.03   \n",
       "Freedom_to_make_life_choices                       0.49         0.28   \n",
       "Generosity                                         0.11         0.64   \n",
       "Perceptions_of_corruption                          1.00         0.33   \n",
       "Generositys                                        0.33         1.00   \n",
       "Perception_of_corruption                            NaN          NaN   \n",
       "\n",
       "                              Perception_of_corruption  \n",
       "Overall_rank                                       NaN  \n",
       "Score                                              NaN  \n",
       "GDP_per_capita                                     NaN  \n",
       "Social_support                                     NaN  \n",
       "Healthy_life_expectancy                            NaN  \n",
       "Freedom_to_make_life_choices                       NaN  \n",
       "Generosity                                         NaN  \n",
       "Perceptions_of_corruption                          NaN  \n",
       "Generositys                                        NaN  \n",
       "Perception_of_corruption                           NaN  "
      ]
     },
     "execution_count": 56,
     "metadata": {},
     "output_type": "execute_result"
    }
   ],
   "source": [
    "np.round(df.corr(),2)"
   ]
  },
  {
   "cell_type": "code",
   "execution_count": 57,
   "id": "35d42782",
   "metadata": {},
   "outputs": [
    {
     "data": {
      "text/plain": [
       "<AxesSubplot:title={'center':'Overall_rank vs Score'}, xlabel='Score', ylabel='Overall_rank'>"
      ]
     },
     "execution_count": 57,
     "metadata": {},
     "output_type": "execute_result"
    },
    {
     "data": {
      "image/png": "[encoded data removed]",
      "text/plain": [
       "<Figure size 640x480 with 1 Axes>"
      ]
     },
     "metadata": {},
     "output_type": "display_data"
    }
   ],
   "source": [
    "df.plot.scatter(x='Score', y='Overall_rank', title='Overall_rank vs Score')"
   ]
  },
  {
   "cell_type": "code",
   "execution_count": 58,
   "id": "5e00884b",
   "metadata": {},
   "outputs": [
    {
     "data": {
      "text/plain": [
       "<AxesSubplot:title={'center':'Overall_rank vs GDP_per_capita'}, xlabel='GDP_per_capita', ylabel='Overall_rank'>"
      ]
     },
     "execution_count": 58,
     "metadata": {},
     "output_type": "execute_result"
    },
    {
     "data": {
      "image/png": "[encoded data removed]",
      "text/plain": [
       "<Figure size 640x480 with 1 Axes>"
      ]
     },
     "metadata": {},
     "output_type": "display_data"
    }
   ],
   "source": [
    "df.plot.scatter(x='GDP_per_capita', y='Overall_rank', title='Overall_rank vs GDP_per_capita')"
   ]
  },
  {
   "cell_type": "code",
   "execution_count": 59,
   "id": "5b7244f7",
   "metadata": {
    "scrolled": false
   },
   "outputs": [
    {
     "data": {
      "text/plain": [
       "<AxesSubplot:title={'center':'Overall_rank vs Social_support'}, xlabel='Social_support', ylabel='Overall_rank'>"
      ]
     },
     "execution_count": 59,
     "metadata": {},
     "output_type": "execute_result"
    },
    {
     "data": {
      "image/png": "[encoded data removed]",
      "text/plain": [
       "<Figure size 640x480 with 1 Axes>"
      ]
     },
     "metadata": {},
     "output_type": "display_data"
    }
   ],
   "source": [
    "df.plot.scatter(x='Social_support', y='Overall_rank', title='Overall_rank vs Social_support')"
   ]
  },
  {
   "cell_type": "code",
   "execution_count": 60,
   "id": "60e359e9",
   "metadata": {},
   "outputs": [
    {
     "data": {
      "text/html": [
       "<div>\n",
       "<style scoped>\n",
       "    .dataframe tbody tr th:only-of-type {\n",
       "        vertical-align: middle;\n",
       "    }\n",
       "\n",
       "    .dataframe tbody tr th {\n",
       "        vertical-align: top;\n",
       "    }\n",
       "\n",
       "    .dataframe thead th {\n",
       "        text-align: right;\n",
       "    }\n",
       "</style>\n",
       "<table border=\"1\" class=\"dataframe\">\n",
       "  <thead>\n",
       "    <tr style=\"text-align: right;\">\n",
       "      <th></th>\n",
       "      <th>Overall_rank</th>\n",
       "      <th>Score</th>\n",
       "      <th>GDP_per_capita</th>\n",
       "      <th>Social_support</th>\n",
       "      <th>Healthy_life_expectancy</th>\n",
       "      <th>Freedom_to_make_life_choices</th>\n",
       "      <th>Generosity</th>\n",
       "      <th>Perceptions_of_corruption</th>\n",
       "      <th>Generositys</th>\n",
       "      <th>Perception_of_corruption</th>\n",
       "    </tr>\n",
       "  </thead>\n",
       "  <tbody>\n",
       "    <tr>\n",
       "      <th>Overall_rank</th>\n",
       "      <td>1.000000</td>\n",
       "      <td>-0.988817</td>\n",
       "      <td>-0.800381</td>\n",
       "      <td>-0.753105</td>\n",
       "      <td>-0.796993</td>\n",
       "      <td>-0.556520</td>\n",
       "      <td>0.057495</td>\n",
       "      <td>-0.352099</td>\n",
       "      <td>-0.028984</td>\n",
       "      <td>NaN</td>\n",
       "    </tr>\n",
       "    <tr>\n",
       "      <th>Score</th>\n",
       "      <td>-0.988817</td>\n",
       "      <td>1.000000</td>\n",
       "      <td>0.783761</td>\n",
       "      <td>0.760372</td>\n",
       "      <td>0.785728</td>\n",
       "      <td>0.566318</td>\n",
       "      <td>-0.031955</td>\n",
       "      <td>0.371255</td>\n",
       "      <td>0.059895</td>\n",
       "      <td>NaN</td>\n",
       "    </tr>\n",
       "    <tr>\n",
       "      <th>GDP_per_capita</th>\n",
       "      <td>-0.800381</td>\n",
       "      <td>0.783761</td>\n",
       "      <td>1.000000</td>\n",
       "      <td>0.747250</td>\n",
       "      <td>0.862091</td>\n",
       "      <td>0.416915</td>\n",
       "      <td>-0.012395</td>\n",
       "      <td>0.335728</td>\n",
       "      <td>-0.063353</td>\n",
       "      <td>NaN</td>\n",
       "    </tr>\n",
       "    <tr>\n",
       "      <th>Social_support</th>\n",
       "      <td>-0.753105</td>\n",
       "      <td>0.760372</td>\n",
       "      <td>0.747250</td>\n",
       "      <td>1.000000</td>\n",
       "      <td>0.750586</td>\n",
       "      <td>0.472956</td>\n",
       "      <td>-0.000542</td>\n",
       "      <td>0.159113</td>\n",
       "      <td>-0.038535</td>\n",
       "      <td>NaN</td>\n",
       "    </tr>\n",
       "    <tr>\n",
       "      <th>Healthy_life_expectancy</th>\n",
       "      <td>-0.796993</td>\n",
       "      <td>0.785728</td>\n",
       "      <td>0.862091</td>\n",
       "      <td>0.750586</td>\n",
       "      <td>1.000000</td>\n",
       "      <td>0.433484</td>\n",
       "      <td>-0.029332</td>\n",
       "      <td>0.308475</td>\n",
       "      <td>-0.034912</td>\n",
       "      <td>NaN</td>\n",
       "    </tr>\n",
       "    <tr>\n",
       "      <th>Freedom_to_make_life_choices</th>\n",
       "      <td>-0.556520</td>\n",
       "      <td>0.566318</td>\n",
       "      <td>0.416915</td>\n",
       "      <td>0.472956</td>\n",
       "      <td>0.433484</td>\n",
       "      <td>1.000000</td>\n",
       "      <td>0.161864</td>\n",
       "      <td>0.488709</td>\n",
       "      <td>0.275348</td>\n",
       "      <td>NaN</td>\n",
       "    </tr>\n",
       "    <tr>\n",
       "      <th>Generosity</th>\n",
       "      <td>0.057495</td>\n",
       "      <td>-0.031955</td>\n",
       "      <td>-0.012395</td>\n",
       "      <td>-0.000542</td>\n",
       "      <td>-0.029332</td>\n",
       "      <td>0.161864</td>\n",
       "      <td>1.000000</td>\n",
       "      <td>0.112441</td>\n",
       "      <td>0.637905</td>\n",
       "      <td>NaN</td>\n",
       "    </tr>\n",
       "    <tr>\n",
       "      <th>Perceptions_of_corruption</th>\n",
       "      <td>-0.352099</td>\n",
       "      <td>0.371255</td>\n",
       "      <td>0.335728</td>\n",
       "      <td>0.159113</td>\n",
       "      <td>0.308475</td>\n",
       "      <td>0.488709</td>\n",
       "      <td>0.112441</td>\n",
       "      <td>1.000000</td>\n",
       "      <td>0.330122</td>\n",
       "      <td>NaN</td>\n",
       "    </tr>\n",
       "    <tr>\n",
       "      <th>Generositys</th>\n",
       "      <td>-0.028984</td>\n",
       "      <td>0.059895</td>\n",
       "      <td>-0.063353</td>\n",
       "      <td>-0.038535</td>\n",
       "      <td>-0.034912</td>\n",
       "      <td>0.275348</td>\n",
       "      <td>0.637905</td>\n",
       "      <td>0.330122</td>\n",
       "      <td>1.000000</td>\n",
       "      <td>NaN</td>\n",
       "    </tr>\n",
       "    <tr>\n",
       "      <th>Perception_of_corruption</th>\n",
       "      <td>NaN</td>\n",
       "      <td>NaN</td>\n",
       "      <td>NaN</td>\n",
       "      <td>NaN</td>\n",
       "      <td>NaN</td>\n",
       "      <td>NaN</td>\n",
       "      <td>NaN</td>\n",
       "      <td>NaN</td>\n",
       "      <td>NaN</td>\n",
       "      <td>NaN</td>\n",
       "    </tr>\n",
       "  </tbody>\n",
       "</table>\n",
       "</div>"
      ],
      "text/plain": [
       "                              Overall_rank     Score  GDP_per_capita  \\\n",
       "Overall_rank                      1.000000 -0.988817       -0.800381   \n",
       "Score                            -0.988817  1.000000        0.783761   \n",
       "GDP_per_capita                   -0.800381  0.783761        1.000000   \n",
       "Social_support                   -0.753105  0.760372        0.747250   \n",
       "Healthy_life_expectancy          -0.796993  0.785728        0.862091   \n",
       "Freedom_to_make_life_choices     -0.556520  0.566318        0.416915   \n",
       "Generosity                        0.057495 -0.031955       -0.012395   \n",
       "Perceptions_of_corruption        -0.352099  0.371255        0.335728   \n",
       "Generositys                      -0.028984  0.059895       -0.063353   \n",
       "Perception_of_corruption               NaN       NaN             NaN   \n",
       "\n",
       "                              Social_support  Healthy_life_expectancy  \\\n",
       "Overall_rank                       -0.753105                -0.796993   \n",
       "Score                               0.760372                 0.785728   \n",
       "GDP_per_capita                      0.747250                 0.862091   \n",
       "Social_support                      1.000000                 0.750586   \n",
       "Healthy_life_expectancy             0.750586                 1.000000   \n",
       "Freedom_to_make_life_choices        0.472956                 0.433484   \n",
       "Generosity                         -0.000542                -0.029332   \n",
       "Perceptions_of_corruption           0.159113                 0.308475   \n",
       "Generositys                        -0.038535                -0.034912   \n",
       "Perception_of_corruption                 NaN                      NaN   \n",
       "\n",
       "                              Freedom_to_make_life_choices  Generosity  \\\n",
       "Overall_rank                                     -0.556520    0.057495   \n",
       "Score                                             0.566318   -0.031955   \n",
       "GDP_per_capita                                    0.416915   -0.012395   \n",
       "Social_support                                    0.472956   -0.000542   \n",
       "Healthy_life_expectancy                           0.433484   -0.029332   \n",
       "Freedom_to_make_life_choices                      1.000000    0.161864   \n",
       "Generosity                                        0.161864    1.000000   \n",
       "Perceptions_of_corruption                         0.488709    0.112441   \n",
       "Generositys                                       0.275348    0.637905   \n",
       "Perception_of_corruption                               NaN         NaN   \n",
       "\n",
       "                              Perceptions_of_corruption  Generositys  \\\n",
       "Overall_rank                                  -0.352099    -0.028984   \n",
       "Score                                          0.371255     0.059895   \n",
       "GDP_per_capita                                 0.335728    -0.063353   \n",
       "Social_support                                 0.159113    -0.038535   \n",
       "Healthy_life_expectancy                        0.308475    -0.034912   \n",
       "Freedom_to_make_life_choices                   0.488709     0.275348   \n",
       "Generosity                                     0.112441     0.637905   \n",
       "Perceptions_of_corruption                      1.000000     0.330122   \n",
       "Generositys                                    0.330122     1.000000   \n",
       "Perception_of_corruption                            NaN          NaN   \n",
       "\n",
       "                              Perception_of_corruption  \n",
       "Overall_rank                                       NaN  \n",
       "Score                                              NaN  \n",
       "GDP_per_capita                                     NaN  \n",
       "Social_support                                     NaN  \n",
       "Healthy_life_expectancy                            NaN  \n",
       "Freedom_to_make_life_choices                       NaN  \n",
       "Generosity                                         NaN  \n",
       "Perceptions_of_corruption                          NaN  \n",
       "Generositys                                        NaN  \n",
       "Perception_of_corruption                           NaN  "
      ]
     },
     "execution_count": 60,
     "metadata": {},
     "output_type": "execute_result"
    }
   ],
   "source": [
    "df.corr()"
   ]
  },
  {
   "cell_type": "code",
   "execution_count": 61,
   "id": "38fdfa39",
   "metadata": {},
   "outputs": [
    {
     "data": {
      "text/plain": [
       "<AxesSubplot:>"
      ]
     },
     "execution_count": 61,
     "metadata": {},
     "output_type": "execute_result"
    },
    {
     "data": {
      "image/png": "[encoded data removed]",
      "text/plain": [
       "<Figure size 640x480 with 2 Axes>"
      ]
     },
     "metadata": {},
     "output_type": "display_data"
    }
   ],
   "source": [
    "sns.heatmap(df.corr(),annot = True)"
   ]
  },
  {
   "cell_type": "markdown",
   "id": "62606a76",
   "metadata": {},
   "source": [
    "## Score have 99% strong negative correlation with Overall rank\n",
    "* Score have high impact on Sales\n",
    "* There is multi collinearity exists"
   ]
  },
  {
   "cell_type": "code",
   "execution_count": 62,
   "id": "a553d6dc",
   "metadata": {},
   "outputs": [
    {
     "data": {
      "text/plain": [
       "Index(['Score', 'GDP_per_capita', 'Social_support', 'Healthy_life_expectancy',\n",
       "       'Freedom_to_make_life_choices', 'Generosity',\n",
       "       'Perceptions_of_corruption', 'Generositys', 'Perception_of_corruption'],\n",
       "      dtype='object')"
      ]
     },
     "execution_count": 62,
     "metadata": {},
     "output_type": "execute_result"
    }
   ],
   "source": [
    "X1 = df.drop(['Overall_rank'],axis=1)\n",
    "X1.columns"
   ]
  },
  {
   "cell_type": "code",
   "execution_count": 63,
   "id": "fbe98ad3",
   "metadata": {},
   "outputs": [
    {
     "data": {
      "text/plain": [
       "Score                             4.049511\n",
       "GDP_per_capita                    4.914302\n",
       "Social_support                    3.236025\n",
       "Healthy_life_expectancy           4.627034\n",
       "Freedom_to_make_life_choices      1.871477\n",
       "Generosity                        1.811286\n",
       "Perceptions_of_corruption         1.640439\n",
       "Generositys                       2.098189\n",
       "Perception_of_corruption        113.210664\n",
       "dtype: float64"
      ]
     },
     "execution_count": 63,
     "metadata": {},
     "output_type": "execute_result"
    }
   ],
   "source": [
    "X1=df.drop(['Overall_rank'],axis=1)\n",
    "VIF = pd.Series([variance_inflation_factor(X1.values, i) # i = 0\n",
    "                           for i in range(X1.shape[1])],  # i=0,1,2\n",
    "                          index=X1.columns)  # column name\n",
    "VIF"
   ]
  },
  {
   "cell_type": "code",
   "execution_count": 64,
   "id": "41a9e6de",
   "metadata": {},
   "outputs": [],
   "source": [
    "new = new.drop('Perceptions_of_corruption', axis=1)"
   ]
  },
  {
   "cell_type": "code",
   "execution_count": 65,
   "id": "046ea303",
   "metadata": {},
   "outputs": [
    {
     "data": {
      "text/html": [
       "<div>\n",
       "<style scoped>\n",
       "    .dataframe tbody tr th:only-of-type {\n",
       "        vertical-align: middle;\n",
       "    }\n",
       "\n",
       "    .dataframe tbody tr th {\n",
       "        vertical-align: top;\n",
       "    }\n",
       "\n",
       "    .dataframe thead th {\n",
       "        text-align: right;\n",
       "    }\n",
       "</style>\n",
       "<table border=\"1\" class=\"dataframe\">\n",
       "  <thead>\n",
       "    <tr style=\"text-align: right;\">\n",
       "      <th></th>\n",
       "      <th>Overall_rank</th>\n",
       "      <th>Score</th>\n",
       "      <th>GDP_per_capita</th>\n",
       "      <th>Social_support</th>\n",
       "      <th>Healthy_life_expectancy</th>\n",
       "      <th>Freedom_to_make_life_choices</th>\n",
       "      <th>Generosity</th>\n",
       "      <th>Generositys</th>\n",
       "      <th>Perception_of_corruption</th>\n",
       "    </tr>\n",
       "  </thead>\n",
       "  <tbody>\n",
       "    <tr>\n",
       "      <th>0</th>\n",
       "      <td>1.0</td>\n",
       "      <td>7.769</td>\n",
       "      <td>1.340</td>\n",
       "      <td>1.587</td>\n",
       "      <td>0.986</td>\n",
       "      <td>0.596</td>\n",
       "      <td>0.282625</td>\n",
       "      <td>0.153</td>\n",
       "      <td>0.282625</td>\n",
       "    </tr>\n",
       "    <tr>\n",
       "      <th>1</th>\n",
       "      <td>2.0</td>\n",
       "      <td>7.600</td>\n",
       "      <td>1.383</td>\n",
       "      <td>1.573</td>\n",
       "      <td>0.996</td>\n",
       "      <td>0.592</td>\n",
       "      <td>0.282625</td>\n",
       "      <td>0.252</td>\n",
       "      <td>0.282625</td>\n",
       "    </tr>\n",
       "    <tr>\n",
       "      <th>2</th>\n",
       "      <td>3.0</td>\n",
       "      <td>7.554</td>\n",
       "      <td>1.488</td>\n",
       "      <td>1.582</td>\n",
       "      <td>1.028</td>\n",
       "      <td>0.603</td>\n",
       "      <td>0.282625</td>\n",
       "      <td>0.271</td>\n",
       "      <td>0.282625</td>\n",
       "    </tr>\n",
       "    <tr>\n",
       "      <th>3</th>\n",
       "      <td>4.0</td>\n",
       "      <td>7.494</td>\n",
       "      <td>1.380</td>\n",
       "      <td>1.624</td>\n",
       "      <td>1.026</td>\n",
       "      <td>0.591</td>\n",
       "      <td>0.354000</td>\n",
       "      <td>0.354</td>\n",
       "      <td>0.282625</td>\n",
       "    </tr>\n",
       "    <tr>\n",
       "      <th>4</th>\n",
       "      <td>5.0</td>\n",
       "      <td>7.488</td>\n",
       "      <td>1.396</td>\n",
       "      <td>1.522</td>\n",
       "      <td>0.999</td>\n",
       "      <td>0.557</td>\n",
       "      <td>0.322000</td>\n",
       "      <td>0.322</td>\n",
       "      <td>0.282625</td>\n",
       "    </tr>\n",
       "  </tbody>\n",
       "</table>\n",
       "</div>"
      ],
      "text/plain": [
       "   Overall_rank  Score  GDP_per_capita  Social_support  \\\n",
       "0           1.0  7.769           1.340           1.587   \n",
       "1           2.0  7.600           1.383           1.573   \n",
       "2           3.0  7.554           1.488           1.582   \n",
       "3           4.0  7.494           1.380           1.624   \n",
       "4           5.0  7.488           1.396           1.522   \n",
       "\n",
       "   Healthy_life_expectancy  Freedom_to_make_life_choices  Generosity  \\\n",
       "0                    0.986                         0.596    0.282625   \n",
       "1                    0.996                         0.592    0.282625   \n",
       "2                    1.028                         0.603    0.282625   \n",
       "3                    1.026                         0.591    0.354000   \n",
       "4                    0.999                         0.557    0.322000   \n",
       "\n",
       "   Generositys  Perception_of_corruption  \n",
       "0        0.153                  0.282625  \n",
       "1        0.252                  0.282625  \n",
       "2        0.271                  0.282625  \n",
       "3        0.354                  0.282625  \n",
       "4        0.322                  0.282625  "
      ]
     },
     "execution_count": 65,
     "metadata": {},
     "output_type": "execute_result"
    }
   ],
   "source": [
    "new.head()"
   ]
  },
  {
   "cell_type": "code",
   "execution_count": 66,
   "id": "4847a8e3",
   "metadata": {},
   "outputs": [
    {
     "data": {
      "text/plain": [
       "Index(['Score', 'GDP_per_capita', 'Social_support', 'Healthy_life_expectancy',\n",
       "       'Freedom_to_make_life_choices', 'Generosity',\n",
       "       'Perceptions_of_corruption', 'Generositys'],\n",
       "      dtype='object')"
      ]
     },
     "execution_count": 66,
     "metadata": {},
     "output_type": "execute_result"
    }
   ],
   "source": [
    "X1 = df.drop(['Overall_rank','Perception_of_corruption'],axis=1)\n",
    "X1.columns"
   ]
  },
  {
   "cell_type": "code",
   "execution_count": 67,
   "id": "44ac91d2",
   "metadata": {},
   "outputs": [
    {
     "data": {
      "text/plain": [
       "Score                           80.666906\n",
       "GDP_per_capita                  27.502908\n",
       "Social_support                  59.358655\n",
       "Healthy_life_expectancy         46.530349\n",
       "Freedom_to_make_life_choices    33.047299\n",
       "Generosity                      32.561779\n",
       "Perceptions_of_corruption        4.665873\n",
       "Generositys                      8.335728\n",
       "dtype: float64"
      ]
     },
     "execution_count": 67,
     "metadata": {},
     "output_type": "execute_result"
    }
   ],
   "source": [
    "X1=df.drop(['Overall_rank','Perception_of_corruption'],axis=1)\n",
    "VIF = pd.Series([variance_inflation_factor(X1.values, i) # i = 0\n",
    "                           for i in range(X1.shape[1])],  # i=0,1,2\n",
    "                          index=X1.columns)  # column name\n",
    "VIF"
   ]
  },
  {
   "cell_type": "code",
   "execution_count": 68,
   "id": "6a03129d",
   "metadata": {},
   "outputs": [
    {
     "data": {
      "text/plain": [
       "Score                           68.308108\n",
       "GDP_per_capita                  26.439687\n",
       "Healthy_life_expectancy         44.645476\n",
       "Freedom_to_make_life_choices    31.433577\n",
       "Generosity                      30.792197\n",
       "Perceptions_of_corruption        4.281590\n",
       "Generositys                      8.253138\n",
       "dtype: float64"
      ]
     },
     "execution_count": 68,
     "metadata": {},
     "output_type": "execute_result"
    }
   ],
   "source": [
    "X1=df.drop(['Overall_rank','Perception_of_corruption','Social_support'],axis=1)\n",
    "VIF = pd.Series([variance_inflation_factor(X1.values, i) # i = 0\n",
    "                           for i in range(X1.shape[1])],  # i=0,1,2\n",
    "                          index=X1.columns)  # column name\n",
    "VIF"
   ]
  },
  {
   "cell_type": "code",
   "execution_count": 69,
   "id": "7f70c58e",
   "metadata": {},
   "outputs": [
    {
     "data": {
      "text/plain": [
       "GDP_per_capita                  24.805301\n",
       "Healthy_life_expectancy         38.385538\n",
       "Freedom_to_make_life_choices    25.391101\n",
       "Generosity                      25.336141\n",
       "Perceptions_of_corruption        4.281288\n",
       "Generositys                      8.206633\n",
       "dtype: float64"
      ]
     },
     "execution_count": 69,
     "metadata": {},
     "output_type": "execute_result"
    }
   ],
   "source": [
    "X1=df.drop(['Overall_rank','Perception_of_corruption','Social_support','Score'],axis=1)\n",
    "VIF = pd.Series([variance_inflation_factor(X1.values, i) # i = 0\n",
    "                           for i in range(X1.shape[1])],  # i=0,1,2\n",
    "                          index=X1.columns)  # column name\n",
    "VIF"
   ]
  },
  {
   "cell_type": "code",
   "execution_count": 70,
   "id": "c3637fd8",
   "metadata": {},
   "outputs": [
    {
     "data": {
      "text/plain": [
       "GDP_per_capita                   8.285542\n",
       "Freedom_to_make_life_choices    23.941937\n",
       "Generosity                      23.911934\n",
       "Perceptions_of_corruption        4.276165\n",
       "Generositys                      8.173829\n",
       "dtype: float64"
      ]
     },
     "execution_count": 70,
     "metadata": {},
     "output_type": "execute_result"
    }
   ],
   "source": [
    "X1=df.drop(['Overall_rank','Perception_of_corruption','Social_support','Score','Healthy_life_expectancy'],axis=1)\n",
    "VIF = pd.Series([variance_inflation_factor(X1.values, i) # i = 0\n",
    "                           for i in range(X1.shape[1])],  # i=0,1,2\n",
    "                          index=X1.columns)  # column name\n",
    "VIF"
   ]
  },
  {
   "cell_type": "code",
   "execution_count": 71,
   "id": "f078c39b",
   "metadata": {},
   "outputs": [
    {
     "data": {
      "text/plain": [
       "GDP_per_capita                7.097180\n",
       "Generosity                   14.071784\n",
       "Perceptions_of_corruption     3.771168\n",
       "Generositys                   8.172317\n",
       "dtype: float64"
      ]
     },
     "execution_count": 71,
     "metadata": {},
     "output_type": "execute_result"
    }
   ],
   "source": [
    "X1=df.drop(['Overall_rank','Perception_of_corruption','Social_support','Score','Healthy_life_expectancy','Freedom_to_make_life_choices'],axis=1)\n",
    "VIF = pd.Series([variance_inflation_factor(X1.values, i) # i = 0\n",
    "                           for i in range(X1.shape[1])],  # i=0,1,2\n",
    "                          index=X1.columns)  # column name\n",
    "VIF"
   ]
  },
  {
   "cell_type": "code",
   "execution_count": 72,
   "id": "1663fe06",
   "metadata": {},
   "outputs": [
    {
     "data": {
      "text/plain": [
       "GDP_per_capita               3.704572\n",
       "Perceptions_of_corruption    3.723760\n",
       "Generositys                  3.528796\n",
       "dtype: float64"
      ]
     },
     "execution_count": 72,
     "metadata": {},
     "output_type": "execute_result"
    }
   ],
   "source": [
    "X1=df.drop(['Overall_rank','Perception_of_corruption','Social_support','Score','Healthy_life_expectancy','Freedom_to_make_life_choices','Generosity'],axis=1)\n",
    "VIF = pd.Series([variance_inflation_factor(X1.values, i) # i = 0\n",
    "                           for i in range(X1.shape[1])],  # i=0,1,2\n",
    "                          index=X1.columns)  # column name\n",
    "VIF"
   ]
  },
  {
   "cell_type": "code",
   "execution_count": 73,
   "id": "fd3cd75d",
   "metadata": {},
   "outputs": [
    {
     "data": {
      "text/plain": [
       "Index(['GDP_per_capita', 'Perceptions_of_corruption', 'Generositys'], dtype='object')"
      ]
     },
     "execution_count": 73,
     "metadata": {},
     "output_type": "execute_result"
    }
   ],
   "source": [
    "X1.columns"
   ]
  },
  {
   "cell_type": "markdown",
   "id": "820809be",
   "metadata": {},
   "source": [
    "### No collinearity in the data, indicate no multi colinearity"
   ]
  },
  {
   "cell_type": "markdown",
   "id": "b1b7f359",
   "metadata": {},
   "source": [
    "## Model Building\n",
    "H0 :- There is no Linear relationship between variables\n",
    "\n",
    "                  Vs \n",
    "H1 :- There is Linear relationship between variables\n",
    "\n",
    "\n",
    "Alpha = 0.05 (5%)"
   ]
  },
  {
   "cell_type": "code",
   "execution_count": 74,
   "id": "2526a011",
   "metadata": {},
   "outputs": [],
   "source": [
    "import statsmodels.formula.api as smf"
   ]
  },
  {
   "cell_type": "code",
   "execution_count": 75,
   "id": "59abce50",
   "metadata": {},
   "outputs": [
    {
     "data": {
      "text/html": [
       "<table class=\"simpletable\">\n",
       "<caption>OLS Regression Results</caption>\n",
       "<tr>\n",
       "  <th>Dep. Variable:</th>      <td>Overall_rank</td>   <th>  R-squared:         </th> <td>   0.981</td>\n",
       "</tr>\n",
       "<tr>\n",
       "  <th>Model:</th>                   <td>OLS</td>       <th>  Adj. R-squared:    </th> <td>   0.979</td>\n",
       "</tr>\n",
       "<tr>\n",
       "  <th>Method:</th>             <td>Least Squares</td>  <th>  F-statistic:       </th> <td>   728.8</td>\n",
       "</tr>\n",
       "<tr>\n",
       "  <th>Date:</th>             <td>Sat, 25 Feb 2023</td> <th>  Prob (F-statistic):</th> <td>2.00e-83</td>\n",
       "</tr>\n",
       "<tr>\n",
       "  <th>Time:</th>                 <td>13:48:34</td>     <th>  Log-Likelihood:    </th> <td> -354.71</td>\n",
       "</tr>\n",
       "<tr>\n",
       "  <th>No. Observations:</th>      <td>   109</td>      <th>  AIC:               </th> <td>   725.4</td>\n",
       "</tr>\n",
       "<tr>\n",
       "  <th>Df Residuals:</th>          <td>   101</td>      <th>  BIC:               </th> <td>   747.0</td>\n",
       "</tr>\n",
       "<tr>\n",
       "  <th>Df Model:</th>              <td>     7</td>      <th>                     </th>     <td> </td>   \n",
       "</tr>\n",
       "<tr>\n",
       "  <th>Covariance Type:</th>      <td>nonrobust</td>    <th>                     </th>     <td> </td>   \n",
       "</tr>\n",
       "</table>\n",
       "<table class=\"simpletable\">\n",
       "<tr>\n",
       "                <td></td>                  <th>coef</th>     <th>std err</th>      <th>t</th>      <th>P>|t|</th>  <th>[0.025</th>    <th>0.975]</th>  \n",
       "</tr>\n",
       "<tr>\n",
       "  <th>Intercept</th>                    <td>  261.1037</td> <td>    6.137</td> <td>   42.544</td> <td> 0.000</td> <td>  248.929</td> <td>  273.278</td>\n",
       "</tr>\n",
       "<tr>\n",
       "  <th>Score</th>                        <td>  -37.9300</td> <td>    1.121</td> <td>  -33.847</td> <td> 0.000</td> <td>  -40.153</td> <td>  -35.707</td>\n",
       "</tr>\n",
       "<tr>\n",
       "  <th>GDP_per_capita</th>               <td>   -6.9340</td> <td>    3.470</td> <td>   -1.998</td> <td> 0.048</td> <td>  -13.818</td> <td>   -0.050</td>\n",
       "</tr>\n",
       "<tr>\n",
       "  <th>Social_support</th>               <td>    4.6692</td> <td>    3.743</td> <td>    1.247</td> <td> 0.215</td> <td>   -2.757</td> <td>   12.095</td>\n",
       "</tr>\n",
       "<tr>\n",
       "  <th>Healthy_life_expectancy</th>      <td>   -4.2627</td> <td>    5.641</td> <td>   -0.756</td> <td> 0.452</td> <td>  -15.454</td> <td>    6.928</td>\n",
       "</tr>\n",
       "<tr>\n",
       "  <th>Freedom_to_make_life_choices</th> <td>   -4.2662</td> <td>    7.841</td> <td>   -0.544</td> <td> 0.588</td> <td>  -19.820</td> <td>   11.288</td>\n",
       "</tr>\n",
       "<tr>\n",
       "  <th>Generosity</th>                   <td>   20.2167</td> <td>   20.923</td> <td>    0.966</td> <td> 0.336</td> <td>  -21.290</td> <td>   61.723</td>\n",
       "</tr>\n",
       "<tr>\n",
       "  <th>Generositys</th>                  <td>    7.2458</td> <td>    9.158</td> <td>    0.791</td> <td> 0.431</td> <td>  -10.921</td> <td>   25.412</td>\n",
       "</tr>\n",
       "<tr>\n",
       "  <th>Perception_of_corruption</th>     <td>   73.7944</td> <td>    1.735</td> <td>   42.544</td> <td> 0.000</td> <td>   70.354</td> <td>   77.235</td>\n",
       "</tr>\n",
       "</table>\n",
       "<table class=\"simpletable\">\n",
       "<tr>\n",
       "  <th>Omnibus:</th>       <td> 6.037</td> <th>  Durbin-Watson:     </th> <td>   1.890</td>\n",
       "</tr>\n",
       "<tr>\n",
       "  <th>Prob(Omnibus):</th> <td> 0.049</td> <th>  Jarque-Bera (JB):  </th> <td>   5.839</td>\n",
       "</tr>\n",
       "<tr>\n",
       "  <th>Skew:</th>          <td>-0.411</td> <th>  Prob(JB):          </th> <td>  0.0539</td>\n",
       "</tr>\n",
       "<tr>\n",
       "  <th>Kurtosis:</th>      <td> 3.781</td> <th>  Cond. No.          </th> <td>1.38e+17</td>\n",
       "</tr>\n",
       "</table><br/><br/>Notes:<br/>[1] Standard Errors assume that the covariance matrix of the errors is correctly specified.<br/>[2] The smallest eigenvalue is 1.96e-31. This might indicate that there are<br/>strong multicollinearity problems or that the design matrix is singular."
      ],
      "text/plain": [
       "<class 'statsmodels.iolib.summary.Summary'>\n",
       "\"\"\"\n",
       "                            OLS Regression Results                            \n",
       "==============================================================================\n",
       "Dep. Variable:           Overall_rank   R-squared:                       0.981\n",
       "Model:                            OLS   Adj. R-squared:                  0.979\n",
       "Method:                 Least Squares   F-statistic:                     728.8\n",
       "Date:                Sat, 25 Feb 2023   Prob (F-statistic):           2.00e-83\n",
       "Time:                        13:48:34   Log-Likelihood:                -354.71\n",
       "No. Observations:                 109   AIC:                             725.4\n",
       "Df Residuals:                     101   BIC:                             747.0\n",
       "Df Model:                           7                                         \n",
       "Covariance Type:            nonrobust                                         \n",
       "================================================================================================\n",
       "                                   coef    std err          t      P>|t|      [0.025      0.975]\n",
       "------------------------------------------------------------------------------------------------\n",
       "Intercept                      261.1037      6.137     42.544      0.000     248.929     273.278\n",
       "Score                          -37.9300      1.121    -33.847      0.000     -40.153     -35.707\n",
       "GDP_per_capita                  -6.9340      3.470     -1.998      0.048     -13.818      -0.050\n",
       "Social_support                   4.6692      3.743      1.247      0.215      -2.757      12.095\n",
       "Healthy_life_expectancy         -4.2627      5.641     -0.756      0.452     -15.454       6.928\n",
       "Freedom_to_make_life_choices    -4.2662      7.841     -0.544      0.588     -19.820      11.288\n",
       "Generosity                      20.2167     20.923      0.966      0.336     -21.290      61.723\n",
       "Generositys                      7.2458      9.158      0.791      0.431     -10.921      25.412\n",
       "Perception_of_corruption        73.7944      1.735     42.544      0.000      70.354      77.235\n",
       "==============================================================================\n",
       "Omnibus:                        6.037   Durbin-Watson:                   1.890\n",
       "Prob(Omnibus):                  0.049   Jarque-Bera (JB):                5.839\n",
       "Skew:                          -0.411   Prob(JB):                       0.0539\n",
       "Kurtosis:                       3.781   Cond. No.                     1.38e+17\n",
       "==============================================================================\n",
       "\n",
       "Notes:\n",
       "[1] Standard Errors assume that the covariance matrix of the errors is correctly specified.\n",
       "[2] The smallest eigenvalue is 1.96e-31. This might indicate that there are\n",
       "strong multicollinearity problems or that the design matrix is singular.\n",
       "\"\"\""
      ]
     },
     "execution_count": 75,
     "metadata": {},
     "output_type": "execute_result"
    }
   ],
   "source": [
    "model = smf.ols('Overall_rank ~ Score+GDP_per_capita+Social_support+Healthy_life_expectancy+Freedom_to_make_life_choices+Generosity+Generositys+Perception_of_corruption' , data=df).fit()\n",
    "model.summary()"
   ]
  },
  {
   "cell_type": "code",
   "execution_count": 76,
   "id": "ea2b13c7",
   "metadata": {},
   "outputs": [
    {
     "data": {
      "text/html": [
       "<table class=\"simpletable\">\n",
       "<caption>OLS Regression Results</caption>\n",
       "<tr>\n",
       "  <th>Dep. Variable:</th>      <td>Overall_rank</td>   <th>  R-squared:         </th> <td>   0.979</td>\n",
       "</tr>\n",
       "<tr>\n",
       "  <th>Model:</th>                   <td>OLS</td>       <th>  Adj. R-squared:    </th> <td>   0.979</td>\n",
       "</tr>\n",
       "<tr>\n",
       "  <th>Method:</th>             <td>Least Squares</td>  <th>  F-statistic:       </th> <td>   2523.</td>\n",
       "</tr>\n",
       "<tr>\n",
       "  <th>Date:</th>             <td>Sat, 25 Feb 2023</td> <th>  Prob (F-statistic):</th> <td>4.00e-90</td>\n",
       "</tr>\n",
       "<tr>\n",
       "  <th>Time:</th>                 <td>13:48:34</td>     <th>  Log-Likelihood:    </th> <td> -357.87</td>\n",
       "</tr>\n",
       "<tr>\n",
       "  <th>No. Observations:</th>      <td>   109</td>      <th>  AIC:               </th> <td>   721.7</td>\n",
       "</tr>\n",
       "<tr>\n",
       "  <th>Df Residuals:</th>          <td>   106</td>      <th>  BIC:               </th> <td>   729.8</td>\n",
       "</tr>\n",
       "<tr>\n",
       "  <th>Df Model:</th>              <td>     2</td>      <th>                     </th>     <td> </td>   \n",
       "</tr>\n",
       "<tr>\n",
       "  <th>Covariance Type:</th>      <td>nonrobust</td>    <th>                     </th>     <td> </td>   \n",
       "</tr>\n",
       "</table>\n",
       "<table class=\"simpletable\">\n",
       "<tr>\n",
       "              <td></td>                <th>coef</th>     <th>std err</th>      <th>t</th>      <th>P>|t|</th>  <th>[0.025</th>    <th>0.975]</th>  \n",
       "</tr>\n",
       "<tr>\n",
       "  <th>Intercept</th>                <td>  268.2627</td> <td>    3.161</td> <td>   84.855</td> <td> 0.000</td> <td>  261.995</td> <td>  274.530</td>\n",
       "</tr>\n",
       "<tr>\n",
       "  <th>Score</th>                    <td>  -37.7546</td> <td>    0.904</td> <td>  -41.784</td> <td> 0.000</td> <td>  -39.546</td> <td>  -35.963</td>\n",
       "</tr>\n",
       "<tr>\n",
       "  <th>GDP_per_capita</th>           <td>   -7.6041</td> <td>    2.592</td> <td>   -2.934</td> <td> 0.004</td> <td>  -12.742</td> <td>   -2.466</td>\n",
       "</tr>\n",
       "<tr>\n",
       "  <th>Perception_of_corruption</th> <td>   75.8177</td> <td>    0.893</td> <td>   84.855</td> <td> 0.000</td> <td>   74.046</td> <td>   77.589</td>\n",
       "</tr>\n",
       "</table>\n",
       "<table class=\"simpletable\">\n",
       "<tr>\n",
       "  <th>Omnibus:</th>       <td> 6.351</td> <th>  Durbin-Watson:     </th> <td>   1.922</td>\n",
       "</tr>\n",
       "<tr>\n",
       "  <th>Prob(Omnibus):</th> <td> 0.042</td> <th>  Jarque-Bera (JB):  </th> <td>   6.055</td>\n",
       "</tr>\n",
       "<tr>\n",
       "  <th>Skew:</th>          <td>-0.446</td> <th>  Prob(JB):          </th> <td>  0.0484</td>\n",
       "</tr>\n",
       "<tr>\n",
       "  <th>Kurtosis:</th>      <td> 3.734</td> <th>  Cond. No.          </th> <td>1.31e+17</td>\n",
       "</tr>\n",
       "</table><br/><br/>Notes:<br/>[1] Standard Errors assume that the covariance matrix of the errors is correctly specified.<br/>[2] The smallest eigenvalue is 2.02e-31. This might indicate that there are<br/>strong multicollinearity problems or that the design matrix is singular."
      ],
      "text/plain": [
       "<class 'statsmodels.iolib.summary.Summary'>\n",
       "\"\"\"\n",
       "                            OLS Regression Results                            \n",
       "==============================================================================\n",
       "Dep. Variable:           Overall_rank   R-squared:                       0.979\n",
       "Model:                            OLS   Adj. R-squared:                  0.979\n",
       "Method:                 Least Squares   F-statistic:                     2523.\n",
       "Date:                Sat, 25 Feb 2023   Prob (F-statistic):           4.00e-90\n",
       "Time:                        13:48:34   Log-Likelihood:                -357.87\n",
       "No. Observations:                 109   AIC:                             721.7\n",
       "Df Residuals:                     106   BIC:                             729.8\n",
       "Df Model:                           2                                         \n",
       "Covariance Type:            nonrobust                                         \n",
       "============================================================================================\n",
       "                               coef    std err          t      P>|t|      [0.025      0.975]\n",
       "--------------------------------------------------------------------------------------------\n",
       "Intercept                  268.2627      3.161     84.855      0.000     261.995     274.530\n",
       "Score                      -37.7546      0.904    -41.784      0.000     -39.546     -35.963\n",
       "GDP_per_capita              -7.6041      2.592     -2.934      0.004     -12.742      -2.466\n",
       "Perception_of_corruption    75.8177      0.893     84.855      0.000      74.046      77.589\n",
       "==============================================================================\n",
       "Omnibus:                        6.351   Durbin-Watson:                   1.922\n",
       "Prob(Omnibus):                  0.042   Jarque-Bera (JB):                6.055\n",
       "Skew:                          -0.446   Prob(JB):                       0.0484\n",
       "Kurtosis:                       3.734   Cond. No.                     1.31e+17\n",
       "==============================================================================\n",
       "\n",
       "Notes:\n",
       "[1] Standard Errors assume that the covariance matrix of the errors is correctly specified.\n",
       "[2] The smallest eigenvalue is 2.02e-31. This might indicate that there are\n",
       "strong multicollinearity problems or that the design matrix is singular.\n",
       "\"\"\""
      ]
     },
     "execution_count": 76,
     "metadata": {},
     "output_type": "execute_result"
    }
   ],
   "source": [
    "model = smf.ols('Overall_rank ~ Score + GDP_per_capita + Perception_of_corruption' , data=df).fit()\n",
    "model.summary()"
   ]
  },
  {
   "cell_type": "markdown",
   "id": "08ad521a",
   "metadata": {},
   "source": [
    "## Assumption of Model\n",
    "\n",
    "* Linearity\n",
    "* Normality\n",
    "* Homoscedasicity\n",
    "* Model Error has to be independently identificaly Distibuted"
   ]
  },
  {
   "cell_type": "code",
   "execution_count": 77,
   "id": "e6fc6e10",
   "metadata": {},
   "outputs": [
    {
     "data": {
      "text/html": [
       "<div>\n",
       "<style scoped>\n",
       "    .dataframe tbody tr th:only-of-type {\n",
       "        vertical-align: middle;\n",
       "    }\n",
       "\n",
       "    .dataframe tbody tr th {\n",
       "        vertical-align: top;\n",
       "    }\n",
       "\n",
       "    .dataframe thead th {\n",
       "        text-align: right;\n",
       "    }\n",
       "</style>\n",
       "<table border=\"1\" class=\"dataframe\">\n",
       "  <thead>\n",
       "    <tr style=\"text-align: right;\">\n",
       "      <th></th>\n",
       "      <th>Overall_rank</th>\n",
       "      <th>Score</th>\n",
       "      <th>GDP_per_capita</th>\n",
       "      <th>Social_support</th>\n",
       "      <th>Healthy_life_expectancy</th>\n",
       "      <th>Freedom_to_make_life_choices</th>\n",
       "      <th>Generosity</th>\n",
       "      <th>Perceptions_of_corruption</th>\n",
       "      <th>Generositys</th>\n",
       "      <th>Perception_of_corruption</th>\n",
       "    </tr>\n",
       "  </thead>\n",
       "  <tbody>\n",
       "    <tr>\n",
       "      <th>59</th>\n",
       "      <td>60.0</td>\n",
       "      <td>5.809</td>\n",
       "      <td>1.173000</td>\n",
       "      <td>1.508</td>\n",
       "      <td>0.729</td>\n",
       "      <td>0.410</td>\n",
       "      <td>0.282625</td>\n",
       "      <td>0.096</td>\n",
       "      <td>0.146</td>\n",
       "      <td>0.282625</td>\n",
       "    </tr>\n",
       "    <tr>\n",
       "      <th>3</th>\n",
       "      <td>4.0</td>\n",
       "      <td>7.494</td>\n",
       "      <td>1.380000</td>\n",
       "      <td>1.624</td>\n",
       "      <td>1.026</td>\n",
       "      <td>0.591</td>\n",
       "      <td>0.354000</td>\n",
       "      <td>0.118</td>\n",
       "      <td>0.354</td>\n",
       "      <td>0.282625</td>\n",
       "    </tr>\n",
       "    <tr>\n",
       "      <th>113</th>\n",
       "      <td>114.0</td>\n",
       "      <td>4.628</td>\n",
       "      <td>0.282625</td>\n",
       "      <td>0.774</td>\n",
       "      <td>0.366</td>\n",
       "      <td>0.318</td>\n",
       "      <td>0.282625</td>\n",
       "      <td>0.102</td>\n",
       "      <td>0.188</td>\n",
       "      <td>0.282625</td>\n",
       "    </tr>\n",
       "    <tr>\n",
       "      <th>85</th>\n",
       "      <td>86.0</td>\n",
       "      <td>5.261</td>\n",
       "      <td>0.551000</td>\n",
       "      <td>1.438</td>\n",
       "      <td>0.723</td>\n",
       "      <td>0.508</td>\n",
       "      <td>0.300000</td>\n",
       "      <td>0.023</td>\n",
       "      <td>0.300</td>\n",
       "      <td>0.282625</td>\n",
       "    </tr>\n",
       "    <tr>\n",
       "      <th>152</th>\n",
       "      <td>153.0</td>\n",
       "      <td>3.231</td>\n",
       "      <td>0.476000</td>\n",
       "      <td>0.885</td>\n",
       "      <td>0.499</td>\n",
       "      <td>0.417</td>\n",
       "      <td>0.282625</td>\n",
       "      <td>0.147</td>\n",
       "      <td>0.276</td>\n",
       "      <td>0.282625</td>\n",
       "    </tr>\n",
       "  </tbody>\n",
       "</table>\n",
       "</div>"
      ],
      "text/plain": [
       "     Overall_rank  Score  GDP_per_capita  Social_support  \\\n",
       "59           60.0  5.809        1.173000           1.508   \n",
       "3             4.0  7.494        1.380000           1.624   \n",
       "113         114.0  4.628        0.282625           0.774   \n",
       "85           86.0  5.261        0.551000           1.438   \n",
       "152         153.0  3.231        0.476000           0.885   \n",
       "\n",
       "     Healthy_life_expectancy  Freedom_to_make_life_choices  Generosity  \\\n",
       "59                     0.729                         0.410    0.282625   \n",
       "3                      1.026                         0.591    0.354000   \n",
       "113                    0.366                         0.318    0.282625   \n",
       "85                     0.723                         0.508    0.300000   \n",
       "152                    0.499                         0.417    0.282625   \n",
       "\n",
       "     Perceptions_of_corruption  Generositys  Perception_of_corruption  \n",
       "59                       0.096        0.146                  0.282625  \n",
       "3                        0.118        0.354                  0.282625  \n",
       "113                      0.102        0.188                  0.282625  \n",
       "85                       0.023        0.300                  0.282625  \n",
       "152                      0.147        0.276                  0.282625  "
      ]
     },
     "execution_count": 77,
     "metadata": {},
     "output_type": "execute_result"
    }
   ],
   "source": [
    "df.head()"
   ]
  },
  {
   "cell_type": "code",
   "execution_count": 78,
   "id": "1f17d042",
   "metadata": {},
   "outputs": [
    {
     "data": {
      "text/plain": [
       "47.305118499999956"
      ]
     },
     "execution_count": 78,
     "metadata": {},
     "output_type": "execute_result"
    }
   ],
   "source": [
    "# Y = intercet + b1 * Score + b2 * GDP_per_capita + b3 * Perception_of_corruption\n",
    "Y = 268.2627 - 37.7546 * 5.809  - 7.6041 * 1.173000 + 75.8177 * 0.096\n",
    "Y"
   ]
  },
  {
   "cell_type": "code",
   "execution_count": 79,
   "id": "35548cc3",
   "metadata": {},
   "outputs": [
    {
     "data": {
      "text/html": [
       "<div>\n",
       "<style scoped>\n",
       "    .dataframe tbody tr th:only-of-type {\n",
       "        vertical-align: middle;\n",
       "    }\n",
       "\n",
       "    .dataframe tbody tr th {\n",
       "        vertical-align: top;\n",
       "    }\n",
       "\n",
       "    .dataframe thead th {\n",
       "        text-align: right;\n",
       "    }\n",
       "</style>\n",
       "<table border=\"1\" class=\"dataframe\">\n",
       "  <thead>\n",
       "    <tr style=\"text-align: right;\">\n",
       "      <th></th>\n",
       "      <th>Overall_rank</th>\n",
       "      <th>Score</th>\n",
       "      <th>GDP_per_capita</th>\n",
       "      <th>Social_support</th>\n",
       "      <th>Healthy_life_expectancy</th>\n",
       "      <th>Freedom_to_make_life_choices</th>\n",
       "      <th>Generosity</th>\n",
       "      <th>Perceptions_of_corruption</th>\n",
       "      <th>Generositys</th>\n",
       "      <th>Perception_of_corruption</th>\n",
       "      <th>fitted_value</th>\n",
       "      <th>residual</th>\n",
       "    </tr>\n",
       "  </thead>\n",
       "  <tbody>\n",
       "    <tr>\n",
       "      <th>59</th>\n",
       "      <td>60.0</td>\n",
       "      <td>5.809</td>\n",
       "      <td>1.173000</td>\n",
       "      <td>1.508</td>\n",
       "      <td>0.729</td>\n",
       "      <td>0.410</td>\n",
       "      <td>0.282625</td>\n",
       "      <td>0.096</td>\n",
       "      <td>0.146</td>\n",
       "      <td>0.282625</td>\n",
       "      <td>61.454639</td>\n",
       "      <td>-1.454639</td>\n",
       "    </tr>\n",
       "    <tr>\n",
       "      <th>3</th>\n",
       "      <td>4.0</td>\n",
       "      <td>7.494</td>\n",
       "      <td>1.380000</td>\n",
       "      <td>1.624</td>\n",
       "      <td>1.026</td>\n",
       "      <td>0.591</td>\n",
       "      <td>0.354000</td>\n",
       "      <td>0.118</td>\n",
       "      <td>0.354</td>\n",
       "      <td>0.282625</td>\n",
       "      <td>-3.735894</td>\n",
       "      <td>7.735894</td>\n",
       "    </tr>\n",
       "    <tr>\n",
       "      <th>113</th>\n",
       "      <td>114.0</td>\n",
       "      <td>4.628</td>\n",
       "      <td>0.282625</td>\n",
       "      <td>0.774</td>\n",
       "      <td>0.366</td>\n",
       "      <td>0.318</td>\n",
       "      <td>0.282625</td>\n",
       "      <td>0.102</td>\n",
       "      <td>0.188</td>\n",
       "      <td>0.282625</td>\n",
       "      <td>112.813293</td>\n",
       "      <td>1.186707</td>\n",
       "    </tr>\n",
       "    <tr>\n",
       "      <th>85</th>\n",
       "      <td>86.0</td>\n",
       "      <td>5.261</td>\n",
       "      <td>0.551000</td>\n",
       "      <td>1.438</td>\n",
       "      <td>0.723</td>\n",
       "      <td>0.508</td>\n",
       "      <td>0.300000</td>\n",
       "      <td>0.023</td>\n",
       "      <td>0.300</td>\n",
       "      <td>0.282625</td>\n",
       "      <td>86.873891</td>\n",
       "      <td>-0.873891</td>\n",
       "    </tr>\n",
       "    <tr>\n",
       "      <th>152</th>\n",
       "      <td>153.0</td>\n",
       "      <td>3.231</td>\n",
       "      <td>0.476000</td>\n",
       "      <td>0.885</td>\n",
       "      <td>0.499</td>\n",
       "      <td>0.417</td>\n",
       "      <td>0.282625</td>\n",
       "      <td>0.147</td>\n",
       "      <td>0.276</td>\n",
       "      <td>0.282625</td>\n",
       "      <td>164.086020</td>\n",
       "      <td>-11.086020</td>\n",
       "    </tr>\n",
       "  </tbody>\n",
       "</table>\n",
       "</div>"
      ],
      "text/plain": [
       "     Overall_rank  Score  GDP_per_capita  Social_support  \\\n",
       "59           60.0  5.809        1.173000           1.508   \n",
       "3             4.0  7.494        1.380000           1.624   \n",
       "113         114.0  4.628        0.282625           0.774   \n",
       "85           86.0  5.261        0.551000           1.438   \n",
       "152         153.0  3.231        0.476000           0.885   \n",
       "\n",
       "     Healthy_life_expectancy  Freedom_to_make_life_choices  Generosity  \\\n",
       "59                     0.729                         0.410    0.282625   \n",
       "3                      1.026                         0.591    0.354000   \n",
       "113                    0.366                         0.318    0.282625   \n",
       "85                     0.723                         0.508    0.300000   \n",
       "152                    0.499                         0.417    0.282625   \n",
       "\n",
       "     Perceptions_of_corruption  Generositys  Perception_of_corruption  \\\n",
       "59                       0.096        0.146                  0.282625   \n",
       "3                        0.118        0.354                  0.282625   \n",
       "113                      0.102        0.188                  0.282625   \n",
       "85                       0.023        0.300                  0.282625   \n",
       "152                      0.147        0.276                  0.282625   \n",
       "\n",
       "     fitted_value   residual  \n",
       "59      61.454639  -1.454639  \n",
       "3       -3.735894   7.735894  \n",
       "113    112.813293   1.186707  \n",
       "85      86.873891  -0.873891  \n",
       "152    164.086020 -11.086020  "
      ]
     },
     "execution_count": 79,
     "metadata": {},
     "output_type": "execute_result"
    }
   ],
   "source": [
    "df['fitted_value']=model.fittedvalues #Predicted Value\n",
    "df['residual']=model.resid  #Error\n",
    "df.head()"
   ]
  },
  {
   "cell_type": "markdown",
   "id": "4cb1ca63",
   "metadata": {},
   "source": [
    "## Linearity"
   ]
  },
  {
   "cell_type": "code",
   "execution_count": 80,
   "id": "8a92f0ee",
   "metadata": {},
   "outputs": [
    {
     "data": {
      "text/plain": [
       "<AxesSubplot:title={'center':'Overall_rank vs Score'}, xlabel='Score', ylabel='Overall_rank'>"
      ]
     },
     "execution_count": 80,
     "metadata": {},
     "output_type": "execute_result"
    },
    {
     "data": {
      "image/png": "[encoded data removed]",
      "text/plain": [
       "<Figure size 640x480 with 1 Axes>"
      ]
     },
     "metadata": {},
     "output_type": "display_data"
    }
   ],
   "source": [
    "df.plot.scatter(x='Score', y='Overall_rank', title='Overall_rank vs Score')"
   ]
  },
  {
   "cell_type": "code",
   "execution_count": 81,
   "id": "f4f56e41",
   "metadata": {},
   "outputs": [
    {
     "data": {
      "text/plain": [
       "<AxesSubplot:xlabel='fitted_value', ylabel='residual'>"
      ]
     },
     "execution_count": 81,
     "metadata": {},
     "output_type": "execute_result"
    },
    {
     "data": {
      "image/png": "[encoded data removed]",
      "text/plain": [
       "<Figure size 640x480 with 1 Axes>"
      ]
     },
     "metadata": {},
     "output_type": "display_data"
    }
   ],
   "source": [
    "sns.scatterplot(x='fitted_value', y='residual',data=df)"
   ]
  },
  {
   "cell_type": "code",
   "execution_count": 82,
   "id": "dfca8714",
   "metadata": {},
   "outputs": [
    {
     "data": {
      "image/png": "[encoded data removed]",
      "text/plain": [
       "<Figure size 640x480 with 1 Axes>"
      ]
     },
     "metadata": {},
     "output_type": "display_data"
    }
   ],
   "source": [
    "import statsmodels.api as sm\n",
    "fig = sm.qqplot(df['residual'], fit=True, line='s') # s indicate standardized line\n",
    "plt.show()"
   ]
  },
  {
   "cell_type": "markdown",
   "id": "587a9b52",
   "metadata": {},
   "source": [
    "## Model Error are IID "
   ]
  },
  {
   "cell_type": "code",
   "execution_count": 83,
   "id": "875fff2c",
   "metadata": {},
   "outputs": [
    {
     "data": {
      "text/plain": [
       "<AxesSubplot:ylabel='Frequency'>"
      ]
     },
     "execution_count": 83,
     "metadata": {},
     "output_type": "execute_result"
    },
    {
     "data": {
      "image/png": "[encoded data removed]",
      "text/plain": [
       "<Figure size 640x480 with 1 Axes>"
      ]
     },
     "metadata": {},
     "output_type": "display_data"
    }
   ],
   "source": [
    "df['residual'].plot.hist()"
   ]
  },
  {
   "cell_type": "markdown",
   "id": "4cee2673",
   "metadata": {},
   "source": [
    "## Prediction on Test Data (unseen data)"
   ]
  },
  {
   "cell_type": "code",
   "execution_count": 84,
   "id": "2c43e3c8",
   "metadata": {},
   "outputs": [
    {
     "data": {
      "text/html": [
       "<div>\n",
       "<style scoped>\n",
       "    .dataframe tbody tr th:only-of-type {\n",
       "        vertical-align: middle;\n",
       "    }\n",
       "\n",
       "    .dataframe tbody tr th {\n",
       "        vertical-align: top;\n",
       "    }\n",
       "\n",
       "    .dataframe thead th {\n",
       "        text-align: right;\n",
       "    }\n",
       "</style>\n",
       "<table border=\"1\" class=\"dataframe\">\n",
       "  <thead>\n",
       "    <tr style=\"text-align: right;\">\n",
       "      <th></th>\n",
       "      <th>Score</th>\n",
       "      <th>GDP_per_capita</th>\n",
       "      <th>Social_support</th>\n",
       "      <th>Healthy_life_expectancy</th>\n",
       "      <th>Freedom_to_make_life_choices</th>\n",
       "      <th>Generosity</th>\n",
       "      <th>Perceptions_of_corruption</th>\n",
       "      <th>Generositys</th>\n",
       "      <th>Perception_of_corruption</th>\n",
       "      <th>Overall_rank</th>\n",
       "    </tr>\n",
       "  </thead>\n",
       "  <tbody>\n",
       "    <tr>\n",
       "      <th>18</th>\n",
       "      <td>6.892</td>\n",
       "      <td>1.433000</td>\n",
       "      <td>1.457000</td>\n",
       "      <td>0.874000</td>\n",
       "      <td>0.454000</td>\n",
       "      <td>0.282625</td>\n",
       "      <td>0.128</td>\n",
       "      <td>0.280</td>\n",
       "      <td>0.282625</td>\n",
       "      <td>19.0</td>\n",
       "    </tr>\n",
       "    <tr>\n",
       "      <th>154</th>\n",
       "      <td>3.083</td>\n",
       "      <td>0.282625</td>\n",
       "      <td>0.282625</td>\n",
       "      <td>0.282625</td>\n",
       "      <td>0.282625</td>\n",
       "      <td>0.282625</td>\n",
       "      <td>0.035</td>\n",
       "      <td>0.235</td>\n",
       "      <td>0.282625</td>\n",
       "      <td>155.0</td>\n",
       "    </tr>\n",
       "    <tr>\n",
       "      <th>30</th>\n",
       "      <td>6.321</td>\n",
       "      <td>1.149000</td>\n",
       "      <td>1.442000</td>\n",
       "      <td>0.910000</td>\n",
       "      <td>0.516000</td>\n",
       "      <td>0.282625</td>\n",
       "      <td>0.054</td>\n",
       "      <td>0.109</td>\n",
       "      <td>0.282625</td>\n",
       "      <td>31.0</td>\n",
       "    </tr>\n",
       "    <tr>\n",
       "      <th>69</th>\n",
       "      <td>5.603</td>\n",
       "      <td>1.004000</td>\n",
       "      <td>1.383000</td>\n",
       "      <td>0.854000</td>\n",
       "      <td>0.282625</td>\n",
       "      <td>0.282625</td>\n",
       "      <td>0.039</td>\n",
       "      <td>0.137</td>\n",
       "      <td>0.282625</td>\n",
       "      <td>70.0</td>\n",
       "    </tr>\n",
       "    <tr>\n",
       "      <th>118</th>\n",
       "      <td>4.519</td>\n",
       "      <td>0.886000</td>\n",
       "      <td>0.666000</td>\n",
       "      <td>0.752000</td>\n",
       "      <td>0.346000</td>\n",
       "      <td>0.282625</td>\n",
       "      <td>0.164</td>\n",
       "      <td>0.043</td>\n",
       "      <td>0.282625</td>\n",
       "      <td>119.0</td>\n",
       "    </tr>\n",
       "  </tbody>\n",
       "</table>\n",
       "</div>"
      ],
      "text/plain": [
       "     Score  GDP_per_capita  Social_support  Healthy_life_expectancy  \\\n",
       "18   6.892        1.433000        1.457000                 0.874000   \n",
       "154  3.083        0.282625        0.282625                 0.282625   \n",
       "30   6.321        1.149000        1.442000                 0.910000   \n",
       "69   5.603        1.004000        1.383000                 0.854000   \n",
       "118  4.519        0.886000        0.666000                 0.752000   \n",
       "\n",
       "     Freedom_to_make_life_choices  Generosity  Perceptions_of_corruption  \\\n",
       "18                       0.454000    0.282625                      0.128   \n",
       "154                      0.282625    0.282625                      0.035   \n",
       "30                       0.516000    0.282625                      0.054   \n",
       "69                       0.282625    0.282625                      0.039   \n",
       "118                      0.346000    0.282625                      0.164   \n",
       "\n",
       "     Generositys  Perception_of_corruption  Overall_rank  \n",
       "18         0.280                  0.282625          19.0  \n",
       "154        0.235                  0.282625         155.0  \n",
       "30         0.109                  0.282625          31.0  \n",
       "69         0.137                  0.282625          70.0  \n",
       "118        0.043                  0.282625         119.0  "
      ]
     },
     "execution_count": 84,
     "metadata": {},
     "output_type": "execute_result"
    }
   ],
   "source": [
    "df_test=pd.concat([X_test,y_test],axis=1)\n",
    "df_test.head()"
   ]
  },
  {
   "cell_type": "code",
   "execution_count": 85,
   "id": "4d5d43c8",
   "metadata": {},
   "outputs": [
    {
     "data": {
      "text/html": [
       "<div>\n",
       "<style scoped>\n",
       "    .dataframe tbody tr th:only-of-type {\n",
       "        vertical-align: middle;\n",
       "    }\n",
       "\n",
       "    .dataframe tbody tr th {\n",
       "        vertical-align: top;\n",
       "    }\n",
       "\n",
       "    .dataframe thead th {\n",
       "        text-align: right;\n",
       "    }\n",
       "</style>\n",
       "<table border=\"1\" class=\"dataframe\">\n",
       "  <thead>\n",
       "    <tr style=\"text-align: right;\">\n",
       "      <th></th>\n",
       "      <th>Score</th>\n",
       "      <th>GDP_per_capita</th>\n",
       "      <th>Social_support</th>\n",
       "      <th>Healthy_life_expectancy</th>\n",
       "      <th>Freedom_to_make_life_choices</th>\n",
       "      <th>Generosity</th>\n",
       "      <th>Perceptions_of_corruption</th>\n",
       "      <th>Generositys</th>\n",
       "      <th>Perception_of_corruption</th>\n",
       "      <th>Overall_rank</th>\n",
       "      <th>Prediction</th>\n",
       "    </tr>\n",
       "  </thead>\n",
       "  <tbody>\n",
       "    <tr>\n",
       "      <th>18</th>\n",
       "      <td>6.892</td>\n",
       "      <td>1.433000</td>\n",
       "      <td>1.457000</td>\n",
       "      <td>0.874000</td>\n",
       "      <td>0.454000</td>\n",
       "      <td>0.282625</td>\n",
       "      <td>0.128</td>\n",
       "      <td>0.280</td>\n",
       "      <td>0.282625</td>\n",
       "      <td>19.0</td>\n",
       "      <td>18.589355</td>\n",
       "    </tr>\n",
       "    <tr>\n",
       "      <th>154</th>\n",
       "      <td>3.083</td>\n",
       "      <td>0.282625</td>\n",
       "      <td>0.282625</td>\n",
       "      <td>0.282625</td>\n",
       "      <td>0.282625</td>\n",
       "      <td>0.282625</td>\n",
       "      <td>0.035</td>\n",
       "      <td>0.235</td>\n",
       "      <td>0.282625</td>\n",
       "      <td>155.0</td>\n",
       "      <td>171.144138</td>\n",
       "    </tr>\n",
       "    <tr>\n",
       "      <th>30</th>\n",
       "      <td>6.321</td>\n",
       "      <td>1.149000</td>\n",
       "      <td>1.442000</td>\n",
       "      <td>0.910000</td>\n",
       "      <td>0.516000</td>\n",
       "      <td>0.282625</td>\n",
       "      <td>0.054</td>\n",
       "      <td>0.109</td>\n",
       "      <td>0.282625</td>\n",
       "      <td>31.0</td>\n",
       "      <td>42.306785</td>\n",
       "    </tr>\n",
       "    <tr>\n",
       "      <th>69</th>\n",
       "      <td>5.603</td>\n",
       "      <td>1.004000</td>\n",
       "      <td>1.383000</td>\n",
       "      <td>0.854000</td>\n",
       "      <td>0.282625</td>\n",
       "      <td>0.282625</td>\n",
       "      <td>0.039</td>\n",
       "      <td>0.137</td>\n",
       "      <td>0.282625</td>\n",
       "      <td>70.0</td>\n",
       "      <td>70.517174</td>\n",
       "    </tr>\n",
       "    <tr>\n",
       "      <th>118</th>\n",
       "      <td>4.519</td>\n",
       "      <td>0.886000</td>\n",
       "      <td>0.666000</td>\n",
       "      <td>0.752000</td>\n",
       "      <td>0.346000</td>\n",
       "      <td>0.282625</td>\n",
       "      <td>0.164</td>\n",
       "      <td>0.043</td>\n",
       "      <td>0.282625</td>\n",
       "      <td>119.0</td>\n",
       "      <td>112.340433</td>\n",
       "    </tr>\n",
       "  </tbody>\n",
       "</table>\n",
       "</div>"
      ],
      "text/plain": [
       "     Score  GDP_per_capita  Social_support  Healthy_life_expectancy  \\\n",
       "18   6.892        1.433000        1.457000                 0.874000   \n",
       "154  3.083        0.282625        0.282625                 0.282625   \n",
       "30   6.321        1.149000        1.442000                 0.910000   \n",
       "69   5.603        1.004000        1.383000                 0.854000   \n",
       "118  4.519        0.886000        0.666000                 0.752000   \n",
       "\n",
       "     Freedom_to_make_life_choices  Generosity  Perceptions_of_corruption  \\\n",
       "18                       0.454000    0.282625                      0.128   \n",
       "154                      0.282625    0.282625                      0.035   \n",
       "30                       0.516000    0.282625                      0.054   \n",
       "69                       0.282625    0.282625                      0.039   \n",
       "118                      0.346000    0.282625                      0.164   \n",
       "\n",
       "     Generositys  Perception_of_corruption  Overall_rank  Prediction  \n",
       "18         0.280                  0.282625          19.0   18.589355  \n",
       "154        0.235                  0.282625         155.0  171.144138  \n",
       "30         0.109                  0.282625          31.0   42.306785  \n",
       "69         0.137                  0.282625          70.0   70.517174  \n",
       "118        0.043                  0.282625         119.0  112.340433  "
      ]
     },
     "execution_count": 85,
     "metadata": {},
     "output_type": "execute_result"
    }
   ],
   "source": [
    "df_test['Prediction']=model.predict(df_test) # predict = all row prediction ( Auto )\n",
    "df_test.head()"
   ]
  },
  {
   "cell_type": "code",
   "execution_count": 86,
   "id": "f5ae6e8e",
   "metadata": {},
   "outputs": [
    {
     "data": {
      "text/plain": [
       "6.8659870999999555"
      ]
     },
     "execution_count": 86,
     "metadata": {},
     "output_type": "execute_result"
    }
   ],
   "source": [
    "Y = 268.2627 - 37.7546 * 6.892  - 7.6041 * 1.433000 + 75.8177 * 0.128\n",
    "Y"
   ]
  },
  {
   "cell_type": "markdown",
   "id": "6bc78de0",
   "metadata": {},
   "source": [
    "## Test"
   ]
  },
  {
   "cell_type": "code",
   "execution_count": 89,
   "id": "4d742ec0",
   "metadata": {},
   "outputs": [
    {
     "name": "stdout",
     "output_type": "stream",
     "text": [
      "R2 score for model Performance on Test 0.98\n"
     ]
    }
   ],
   "source": [
    "from sklearn.metrics import r2_score\n",
    "r2 = r2_score(df_test.Overall_rank, df_test.Prediction)\n",
    "print('R2 score for model Performance on Test', np.round(r2,2))"
   ]
  },
  {
   "cell_type": "markdown",
   "id": "139ca6e8",
   "metadata": {},
   "source": [
    "## Train"
   ]
  },
  {
   "cell_type": "code",
   "execution_count": 88,
   "id": "ff567b3d",
   "metadata": {},
   "outputs": [
    {
     "name": "stdout",
     "output_type": "stream",
     "text": [
      "R2 score for model Performance on Test 0.98\n"
     ]
    }
   ],
   "source": [
    "from sklearn.metrics import r2_score\n",
    "r2 = r2_score(df.Overall_rank, df.fitted_value)\n",
    "print('R2 score for model Performance on Test', np.round(r2,2))"
   ]
  },
  {
   "cell_type": "markdown",
   "id": "79e786b9",
   "metadata": {},
   "source": [
    "### Model is good fit on Train dataset & Performance of model on Test data is also good fit"
   ]
  },
  {
   "cell_type": "code",
   "execution_count": null,
   "id": "80635c05",
   "metadata": {},
   "outputs": [],
   "source": []
  },
  {
   "cell_type": "code",
   "execution_count": null,
   "id": "baee46d6",
   "metadata": {},
   "outputs": [],
   "source": []
  },
  {
   "cell_type": "code",
   "execution_count": null,
   "id": "5952f5d5",
   "metadata": {},
   "outputs": [],
   "source": []
  },
  {
   "cell_type": "code",
   "execution_count": null,
   "id": "b9e7d91a",
   "metadata": {},
   "outputs": [],
   "source": []
  }
 ],
 "metadata": {
  "kernelspec": {
   "display_name": "Python 3 (ipykernel)",
   "language": "python",
   "name": "python3"
  },
  "language_info": {
   "codemirror_mode": {
    "name": "ipython",
    "version": 3
   },
   "file_extension": ".py",
   "mimetype": "text/x-python",
   "name": "python",
   "nbconvert_exporter": "python",
   "pygments_lexer": "ipython3",
   "version": "3.9.13"
  }
 },
 "nbformat": 4,
 "nbformat_minor": 5
}
